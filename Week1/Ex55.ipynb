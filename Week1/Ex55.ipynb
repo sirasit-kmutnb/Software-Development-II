{
 "cells": [
  {
   "cell_type": "code",
   "execution_count": null,
   "metadata": {},
   "outputs": [],
   "source": [
    "def Sum10(Array):\n",
    "    Array.sort()\n",
    "    for i in range(len(Array)-2):\n",
    "        PF = i + 1\n",
    "        PL = len(Array)-1\n",
    "\n",
    "        while(PL<PF):\n",
    "            \n",
    "            "
   ]
  },
  {
   "cell_type": "code",
   "execution_count": null,
   "metadata": {},
   "outputs": [],
   "source": [
    "InputA = [0, -1, 2, -3, 1, -2]\n",
    "Sum10(InputA)"
   ]
  }
 ],
 "metadata": {
  "language_info": {
   "name": "python"
  },
  "orig_nbformat": 4
 },
 "nbformat": 4,
 "nbformat_minor": 2
}
