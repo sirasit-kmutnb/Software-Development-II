{
 "cells": [
  {
   "cell_type": "code",
   "execution_count": 11,
   "metadata": {},
   "outputs": [],
   "source": [
    "def Sum0(Array):\n",
    "    Array.sort()\n",
    "    result = []\n",
    "    for i in range(len(Array)-2):\n",
    "        PF, PL = i + 1, len(Array)-1\n",
    "        while(PF<PL):\n",
    "            if (Array[i] + Array[PF] + Array[PL] == 0):\n",
    "                result.append([Array[i], Array[PF], Array[PL]])\n",
    "                PF += 1\n",
    "            elif (Array[i] + Array[PF] + Array[PL] > 0): PL -= 1\n",
    "            elif (Array[i] + Array[PF] + Array[PL] < 0 ): PF += 1\n",
    "    if result == []:\n",
    "        return \"No Answer\"\n",
    "    else:\n",
    "        return result   "
   ]
  },
  {
   "cell_type": "code",
   "execution_count": 12,
   "metadata": {},
   "outputs": [
    {
     "data": {
      "text/plain": [
       "'No Answer'"
      ]
     },
     "execution_count": 12,
     "metadata": {},
     "output_type": "execute_result"
    }
   ],
   "source": [
    "InputA = [0, -1, 2, -3, 1, -2]\n",
    "InputB = [-3, 2, 1]\n",
    "InputC = [-5, 2, 3, 9, 7, 1, -2, 0]\n",
    "InputD = [99, 21, 21]\n",
    "Sum0(InputD)"
   ]
  },
  {
   "cell_type": "code",
   "execution_count": 8,
   "metadata": {},
   "outputs": [],
   "source": [
    "import unittest\n",
    "\n",
    "class AdditionTestCase(unittest.TestCase):\n",
    "    def test_main(self):\n",
    "        result = addition(3, 2)\n",
    "        assert result == 5\n",
    "\n",
    "    def test_threeargs(self):\n",
    "        result = addition(3, 2, 1)\n",
    "        assert result == 6\n",
    "\n",
    "    def test_noargs(self):\n",
    "        result = addition()\n",
    "        assert result == 0\n",
    "\n",
    "\n",
    "def addition(*args):\n",
    "    total = 0\n",
    "    for a in args:\n",
    "        total += a\n",
    "    return total"
   ]
  }
 ],
 "metadata": {
  "kernelspec": {
   "display_name": "Python 3",
   "language": "python",
   "name": "python3"
  },
  "language_info": {
   "codemirror_mode": {
    "name": "ipython",
    "version": 3
   },
   "file_extension": ".py",
   "mimetype": "text/x-python",
   "name": "python",
   "nbconvert_exporter": "python",
   "pygments_lexer": "ipython3",
   "version": "3.10.9"
  },
  "orig_nbformat": 4,
  "vscode": {
   "interpreter": {
    "hash": "145d699a7c867e2132605a4c9c8e0a15bef78fe5e04d90a2331adbbc224e1427"
   }
  }
 },
 "nbformat": 4,
 "nbformat_minor": 2
}
