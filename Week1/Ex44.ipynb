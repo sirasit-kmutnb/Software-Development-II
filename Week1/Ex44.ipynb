{
 "cells": [
  {
   "cell_type": "code",
   "execution_count": 15,
   "metadata": {},
   "outputs": [
    {
     "name": "stdout",
     "output_type": "stream",
     "text": [
      "{'A': 1, 'B': 2, 'C': 3}\n",
      "1\n",
      "dict_keys(['A', 'B', 'C'])\n",
      "3\n",
      "Nice\n"
     ]
    }
   ],
   "source": [
    "a = {}\n",
    "A = [\"A\", \"B\", \"C\"]\n",
    "B = [1, 2, 3]\n",
    "for i in range(len(A)):\n",
    "    a[A[i]] = B[i]\n",
    "print(a)\n",
    "print(a[\"A\"])\n",
    "print(a.keys())\n",
    "print(len(a.keys()))\n",
    "\n",
    "b= {\"A\":1, \"B\":2}\n",
    "if \"C\" not in b.keys():\n",
    "    print(\"Nice\")\n"
   ]
  },
  {
   "cell_type": "code",
   "execution_count": 2,
   "metadata": {},
   "outputs": [],
   "source": [
    "def isDuplicated(Array):\n",
    "    dict = {}\n",
    "    result = {}\n",
    "    for i in range(len(Array)):\n",
    "        if Array[i] not in dict.keys():\n",
    "            dict[Array[i]] = {\"count\":1, \"index\":[i]}\n",
    "        else:\n",
    "            dict[Array[i]][\"count\"] += 1\n",
    "            dict[Array[i]][\"index\"].append(i)\n",
    "    return dict"
   ]
  },
  {
   "cell_type": "code",
   "execution_count": 3,
   "metadata": {},
   "outputs": [
    {
     "data": {
      "text/plain": [
       "{1: {'count': 1, 'index': [0]},\n",
       " 2: {'count': 6, 'index': [1, 2, 3, 4, 5, 6]},\n",
       " 3: {'count': 4, 'index': [7, 8, 9, 10]},\n",
       " 4: {'count': 3, 'index': [11, 12, 13]},\n",
       " 5: {'count': 1, 'index': [14]}}"
      ]
     },
     "execution_count": 3,
     "metadata": {},
     "output_type": "execute_result"
    }
   ],
   "source": [
    "InputA = [1,2,2,2,2,2,2,3,3,3,3,4,4,4,5]\n",
    "isDuplicated(InputA)"
   ]
  },
  {
   "cell_type": "code",
   "execution_count": null,
   "metadata": {},
   "outputs": [],
   "source": []
  }
 ],
 "metadata": {
  "kernelspec": {
   "display_name": "Python 3",
   "language": "python",
   "name": "python3"
  },
  "language_info": {
   "codemirror_mode": {
    "name": "ipython",
    "version": 3
   },
   "file_extension": ".py",
   "mimetype": "text/x-python",
   "name": "python",
   "nbconvert_exporter": "python",
   "pygments_lexer": "ipython3",
   "version": "3.10.9"
  },
  "orig_nbformat": 4,
  "vscode": {
   "interpreter": {
    "hash": "145d699a7c867e2132605a4c9c8e0a15bef78fe5e04d90a2331adbbc224e1427"
   }
  }
 },
 "nbformat": 4,
 "nbformat_minor": 2
}
