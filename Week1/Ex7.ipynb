{
 "cells": [
  {
   "cell_type": "code",
   "execution_count": 31,
   "metadata": {},
   "outputs": [],
   "source": [
    "def solveEq(c1,c2,A):\n",
    "    \"\"\" ใช้ในกรณีที่คำตอบใดๆ ใน set A เป็นไปได้เพียงคำตอบเดียว [Complexity : O(n^8)] \"\"\"\n",
    "    x1,x2,x3,x4,x5,x6,x7,x8 = 0,0,0,0,0,0,0,0\n",
    "    for i in range(len(A)):\n",
    "        for j in range(len(A)):\n",
    "            x1 = A[i]\n",
    "            x2 = A[j]\n",
    "            if i == j :\n",
    "                continue\n",
    "            elif c1 == x1 + x2:\n",
    "                # print(x1,x2)\n",
    "                for k in range(len(A)):\n",
    "                    for l in range(len(A)):\n",
    "                        x3 = A[k]\n",
    "                        x4 = A[l]\n",
    "                        if k in [i,j,l] or l in [i,j]:\n",
    "                            continue\n",
    "                        elif x1 + x3 == x4:\n",
    "                            for m in range(len(A)):\n",
    "                                for n in range(len(A)):\n",
    "                                    x6 = A[m]\n",
    "                                    x8 = A[n]\n",
    "                                    if m in [i,j,k,l,n] or n in [i,j,k,l]:\n",
    "                                        continue\n",
    "                                    elif x8 == c2 + x6:\n",
    "                                        for o in range(len(A)):\n",
    "                                            for p in range(len(A)):\n",
    "                                                x5 = A[o]\n",
    "                                                x7 = A[p]\n",
    "                                                if o in [i,j,k,l,m,n,p] or p in [i,j,k,l,m,n]:\n",
    "                                                    continue\n",
    "                                                elif x7 == x5 + x6:\n",
    "                                                    return x1,x2,x3,x4,x5,x6,x7,x8"
   ]
  },
  {
   "cell_type": "code",
   "execution_count": 32,
   "metadata": {},
   "outputs": [],
   "source": [
    "def solveEq2(c1,c2,A):\n",
    "    \"\"\" ใช้ในกรณีที่คำตอบใดๆ ใน set A เป็นไปได้มากกว่า 1 คำตอบ [Complexity : O(n^4)] \"\"\"\n",
    "    x1,x2,x3,x4,x5,x6,x7,x8 = 0,0,0,0,0,0,0,0\n",
    "    for i in range(len(A)):\n",
    "        for j in range(len(A)):\n",
    "            x1 = A[i]\n",
    "            x2 = A[j]\n",
    "            if i == j :\n",
    "                continue\n",
    "            elif c1 == x1 + x2:\n",
    "                # print(x1,x2)\n",
    "                for k in range(len(A)):\n",
    "                    for l in range(len(A)):\n",
    "                        x3 = A[k]\n",
    "                        x4 = A[l]\n",
    "                        # if k in [i,j,l] or l in [i,j]:\n",
    "                        #     continue\n",
    "                        if x1 + x3 == x4:\n",
    "                            break\n",
    "                    if x1 + x3 == x4:\n",
    "                        break\n",
    "                break\n",
    "        if c1 == x1 + x2:\n",
    "            break\n",
    "    for m in range(len(A)):\n",
    "        for n in range(len(A)):\n",
    "            x6 = A[m]\n",
    "            x8 = A[n]\n",
    "            # if m == n or x6 in [x1,x2,x3,x4] or x8 in [x1,x2,x3,x4]:\n",
    "            #     continue\n",
    "            if x8 == c2 + x6:\n",
    "                for o in range(len(A)):\n",
    "                    for p in range(len(A)):\n",
    "                        x5 = A[o]\n",
    "                        x7 = A[p]\n",
    "                        # if o == p or x5 in [x1,x2,x3,x4,x6,x8] or x7 in [x1,x2,x3,x4,x6,x8]:\n",
    "                        #     continue\n",
    "                        if x7 == x5 + x6:\n",
    "                            break\n",
    "                    if x7 == x5 + x6:\n",
    "                        break\n",
    "                break\n",
    "        if x8 == c2 + x6:\n",
    "            break\n",
    "    return x1,x2,x3,x4,x5,x6,x7,x8"
   ]
  },
  {
   "cell_type": "code",
   "execution_count": 35,
   "metadata": {},
   "outputs": [
    {
     "data": {
      "text/plain": [
       "(50, 150, 90, 140, 40, 30, 70, 20)"
      ]
     },
     "execution_count": 35,
     "metadata": {},
     "output_type": "execute_result"
    }
   ],
   "source": [
    "A = [12, 70, 1, 999, 20, 1000, 150, 300, 200, 90, 900, 40, 140, 50, 30]\n",
    "A.sort()\n",
    "solveEq(200,-10,A)"
   ]
  },
  {
   "cell_type": "code",
   "execution_count": 6,
   "metadata": {},
   "outputs": [
    {
     "name": "stdout",
     "output_type": "stream",
     "text": [
      "200 -10 [12, 70, 1, 999, 50, 20, 1000, 150, 300, 200, 90, 900, 40, 140, 130, 30]\n"
     ]
    }
   ],
   "source": [
    "f = open('solutionInput.txt','r')\n",
    "inputConstant = f.readline()\n",
    "k1 = int(inputConstant.split(\" \")[1])\n",
    "k2 = int(inputConstant.split(\" \")[2])\n",
    "lis = []\n",
    "for i in f:\n",
    "    lis.append(int(i.strip()))\n",
    "print(k1,k2,lis)"
   ]
  },
  {
   "cell_type": "code",
   "execution_count": 36,
   "metadata": {},
   "outputs": [],
   "source": [
    "def solveEqFromFile(File):\n",
    "    inputConstant = File.readline()\n",
    "    c1 = int(inputConstant.split(\" \")[1])\n",
    "    c2 = int(inputConstant.split(\" \")[2])\n",
    "    A = []\n",
    "    for i in File:\n",
    "        A.append(int(i.strip()))\n",
    "    A.sort()\n",
    "    for i in solveEq(c1,c2,A):\n",
    "        print(i)"
   ]
  },
  {
   "cell_type": "code",
   "execution_count": 37,
   "metadata": {},
   "outputs": [
    {
     "name": "stdout",
     "output_type": "stream",
     "text": [
      "50\n",
      "150\n",
      "20\n",
      "70\n",
      "90\n",
      "40\n",
      "130\n",
      "30\n"
     ]
    }
   ],
   "source": [
    "solveEqFromFile(open('solutionInput.txt','r'))"
   ]
  },
  {
   "cell_type": "code",
   "execution_count": null,
   "metadata": {},
   "outputs": [],
   "source": []
  }
 ],
 "metadata": {
  "kernelspec": {
   "display_name": "Python 3.10.9 64-bit (microsoft store)",
   "language": "python",
   "name": "python3"
  },
  "language_info": {
   "codemirror_mode": {
    "name": "ipython",
    "version": 3
   },
   "file_extension": ".py",
   "mimetype": "text/x-python",
   "name": "python",
   "nbconvert_exporter": "python",
   "pygments_lexer": "ipython3",
   "version": "3.10.9"
  },
  "orig_nbformat": 4,
  "vscode": {
   "interpreter": {
    "hash": "cd153f557e0f61c9294d2f52e01319636137078114cd550e1f4d282aa52eb66d"
   }
  }
 },
 "nbformat": 4,
 "nbformat_minor": 2
}
