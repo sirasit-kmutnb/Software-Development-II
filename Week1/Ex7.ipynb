{
 "cells": [
  {
   "cell_type": "code",
   "execution_count": 2,
   "metadata": {},
   "outputs": [
    {
     "data": {
      "text/plain": [
       "{x1: -x3 + x4, x2: x3 - x4 + 200, x5: x7 - x8 - 10, x6: x8 + 10}"
      ]
     },
     "execution_count": 2,
     "metadata": {},
     "output_type": "execute_result"
    }
   ],
   "source": [
    "# from sympy import *\n",
    "\n",
    "# x1,x2,x3,x4,x5,x6,x7,x8 = symbols('x1 x2 x3 x4 x5 x6 x7 x8')\n",
    "\n",
    "# eq1 = Eq(x1 + x2 - 200,0)\n",
    "# eq2 = Eq(x3 + x1 - x4,0)\n",
    "# eq3 = Eq(-10 + x6 - x8,0)\n",
    "# eq4 = Eq(x5 + x6 - x7,0)\n",
    "\n",
    "# solve((eq1,eq2,eq3,eq4),(x1,x2,x3,x4,x5,x6,x7,x8))"
   ]
  },
  {
   "cell_type": "code",
   "execution_count": 61,
   "metadata": {},
   "outputs": [],
   "source": [
    "def solveEq(c1,c2,A):\n",
    "    x1,x2,x3,x4,x5,x6,x7,x8 = 0,0,0,0,0,0,0,0\n",
    "    for i in range(len(A)):\n",
    "        for j in range(len(A)):\n",
    "            x1 = A[i]\n",
    "            x2 = A[j]\n",
    "            if i == j :\n",
    "                continue\n",
    "            elif c1 == x1 + x2:\n",
    "                # print(x1,x2)\n",
    "                for k in range(len(A)):\n",
    "                    for l in range(len(A)):\n",
    "                        x3 = A[k]\n",
    "                        x4 = A[l]\n",
    "                        if k in [i,j,l] or l in [i,j]:\n",
    "                            continue\n",
    "                        elif x1 + x3 == x4:\n",
    "                            for m in range(len(A)):\n",
    "                                for n in range(len(A)):\n",
    "                                    x6 = A[m]\n",
    "                                    x8 = A[n]\n",
    "                                    if m in [i,j,k,l,n] or n in [i,j,k,l]:\n",
    "                                        continue\n",
    "                                    elif x8 == c2 + x6:\n",
    "                                        for o in range(len(A)):\n",
    "                                            for p in range(len(A)):\n",
    "                                                x5 = A[o]\n",
    "                                                x7 = A[p]\n",
    "                                                if o in [i,j,k,l,m,n,p] or p in [i,j,k,l,m,n]:\n",
    "                                                    continue\n",
    "                                                elif x7 == x5 + x6:\n",
    "                                                    return x1,x2,x3,x4,x5,x6,x7,x8"
   ]
  },
  {
   "cell_type": "code",
   "execution_count": 62,
   "metadata": {},
   "outputs": [
    {
     "data": {
      "text/plain": [
       "(50, 150, 20, 70, 90, 40, 130, 30)"
      ]
     },
     "execution_count": 62,
     "metadata": {},
     "output_type": "execute_result"
    }
   ],
   "source": [
    "solveEq(c1,c2,A)"
   ]
  },
  {
   "cell_type": "code",
   "execution_count": 76,
   "metadata": {},
   "outputs": [
    {
     "name": "stdout",
     "output_type": "stream",
     "text": [
      "200 -10 [12, 70, 1, 999, 50, 20, 1000, 150, 300, 200, 90, 900, 40, 140, 130, 30]\n"
     ]
    }
   ],
   "source": [
    "f = open('solutionInput.txt','r')\n",
    "inputConstant = f.readline()\n",
    "k1 = int(inputConstant.split(\" \")[1])\n",
    "k2 = int(inputConstant.split(\" \")[2])\n",
    "lis = []\n",
    "for i in f:\n",
    "    lis.append(int(i.strip()))\n",
    "print(k1,k2,lis)"
   ]
  },
  {
   "cell_type": "code",
   "execution_count": 80,
   "metadata": {},
   "outputs": [],
   "source": [
    "def solveEqFromFile(File):\n",
    "    inputConstant = File.readline()\n",
    "    c1 = int(inputConstant.split(\" \")[1])\n",
    "    c2 = int(inputConstant.split(\" \")[2])\n",
    "    A = []\n",
    "    for i in File:\n",
    "        A.append(int(i.strip()))\n",
    "    A.sort()\n",
    "    for i in solveEq(c1,c2,A):\n",
    "        print(i)"
   ]
  },
  {
   "cell_type": "code",
   "execution_count": 81,
   "metadata": {},
   "outputs": [
    {
     "name": "stdout",
     "output_type": "stream",
     "text": [
      "50\n",
      "150\n",
      "20\n",
      "70\n",
      "90\n",
      "40\n",
      "130\n",
      "30\n"
     ]
    }
   ],
   "source": [
    "solveEqFromFile(open('solutionInput.txt','r'))"
   ]
  },
  {
   "cell_type": "code",
   "execution_count": null,
   "metadata": {},
   "outputs": [],
   "source": []
  }
 ],
 "metadata": {
  "kernelspec": {
   "display_name": "Python 3.11.0 64-bit",
   "language": "python",
   "name": "python3"
  },
  "language_info": {
   "codemirror_mode": {
    "name": "ipython",
    "version": 3
   },
   "file_extension": ".py",
   "mimetype": "text/x-python",
   "name": "python",
   "nbconvert_exporter": "python",
   "pygments_lexer": "ipython3",
   "version": "3.11.0"
  },
  "orig_nbformat": 4,
  "vscode": {
   "interpreter": {
    "hash": "aee8b7b246df8f9039afb4144a1f6fd8d2ca17a180786b69acc140d282b71a49"
   }
  }
 },
 "nbformat": 4,
 "nbformat_minor": 2
}
