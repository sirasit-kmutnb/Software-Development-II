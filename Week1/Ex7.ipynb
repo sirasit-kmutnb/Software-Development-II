{
 "cells": [
  {
   "cell_type": "code",
   "execution_count": 2,
   "metadata": {},
   "outputs": [
    {
     "data": {
      "text/plain": [
       "{x1: -x3 + x4, x2: x3 - x4 + 200, x5: x7 - x8 - 10, x6: x8 + 10}"
      ]
     },
     "execution_count": 2,
     "metadata": {},
     "output_type": "execute_result"
    }
   ],
   "source": [
    "from sympy import *\n",
    "\n",
    "x1,x2,x3,x4,x5,x6,x7,x8 = symbols('x1 x2 x3 x4 x5 x6 x7 x8')\n",
    "\n",
    "eq1 = Eq(x1 + x2 - 200,0)\n",
    "eq2 = Eq(x3 + x1 - x4,0)\n",
    "eq3 = Eq(-10 + x6 - x8,0)\n",
    "eq4 = Eq(x5 + x6 - x7,0)\n",
    "\n",
    "solve((eq1,eq2,eq3,eq4),(x1,x2,x3,x4,x5,x6,x7,x8))"
   ]
  },
  {
   "cell_type": "code",
   "execution_count": null,
   "metadata": {},
   "outputs": [],
   "source": [
    "c1 = 200\n",
    "c2 = -10"
   ]
  }
 ],
 "metadata": {
  "kernelspec": {
   "display_name": "Python 3.10.9 64-bit (microsoft store)",
   "language": "python",
   "name": "python3"
  },
  "language_info": {
   "codemirror_mode": {
    "name": "ipython",
    "version": 3
   },
   "file_extension": ".py",
   "mimetype": "text/x-python",
   "name": "python",
   "nbconvert_exporter": "python",
   "pygments_lexer": "ipython3",
   "version": "3.10.9"
  },
  "orig_nbformat": 4,
  "vscode": {
   "interpreter": {
    "hash": "cd153f557e0f61c9294d2f52e01319636137078114cd550e1f4d282aa52eb66d"
   }
  }
 },
 "nbformat": 4,
 "nbformat_minor": 2
}
