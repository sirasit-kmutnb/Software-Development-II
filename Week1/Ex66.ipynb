{
 "cells": [
  {
   "cell_type": "code",
   "execution_count": 58,
   "metadata": {},
   "outputs": [],
   "source": [
    "def Mixedten():\n",
    "    n = int(input())\n",
    "    for i in range(n):\n",
    "        size = int(input())\n",
    "        Matrix = []\n",
    "        for i in range(size):\n",
    "            Matrix.append([int(i) for i in input().split()])\n",
    "        print(count_row(Matrix)+count_column(Matrix))\n",
    "\n",
    "def count_row(Matrix):\n",
    "    result = 0\n",
    "    for i in range(len(Matrix)):\n",
    "        for start in range(len(Matrix[i])):\n",
    "            number = 0\n",
    "            for j in range(len(Matrix[i])-start):\n",
    "                if number < 10:\n",
    "                    number += Matrix[i][start+j]\n",
    "                    if number == 10:\n",
    "                        result += 1\n",
    "    return result\n",
    "\n",
    "def count_column(Matrix):\n",
    "    result = 0\n",
    "    for i in range(len(Matrix)):\n",
    "        for start in range(len(Matrix[i])):\n",
    "            number = 0\n",
    "            for j in range(len(Matrix[i])-start):\n",
    "                if number < 10:\n",
    "                    number += Matrix[start+j][i]\n",
    "                    if number == 10:\n",
    "                        result += 1\n",
    "    return result "
   ]
  },
  {
   "cell_type": "code",
   "execution_count": 57,
   "metadata": {},
   "outputs": [
    {
     "name": "stdout",
     "output_type": "stream",
     "text": [
      "4\n",
      "10\n"
     ]
    }
   ],
   "source": [
    "Mixedten()"
   ]
  },
  {
   "cell_type": "code",
   "execution_count": 45,
   "metadata": {},
   "outputs": [
    {
     "name": "stdout",
     "output_type": "stream",
     "text": [
      "3\n",
      "4\n"
     ]
    }
   ],
   "source": [
    "s = [[1, 3, 5, 7], \n",
    "    [2, 4, 8, 2], \n",
    "    [6, 3, 1, 1], \n",
    "    [2, 3, 5, 6]]\n",
    "\n",
    "def Sum_one_row(Matrix):\n",
    "    result = 0\n",
    "    for i in range(len(Matrix)):\n",
    "        for start in range(len(Matrix[i])):\n",
    "            number = 0\n",
    "            for j in range(len(Matrix[i])-start):\n",
    "                if number < 10:\n",
    "                    number += Matrix[i][start+j]\n",
    "                    if number == 10:\n",
    "                        result += 1\n",
    "    print(result) \n",
    "\n",
    "def Sum_one_column(Matrix):\n",
    "    result = 0\n",
    "    for i in range(len(Matrix)):\n",
    "        for start in range(len(Matrix[i])):\n",
    "            number = 0\n",
    "            for j in range(len(Matrix[i])-start):\n",
    "                if number < 10:\n",
    "                    number += Matrix[start+j][i]\n",
    "                    if number == 10:\n",
    "                        result += 1\n",
    "    print(result)  \n",
    " \n",
    "Sum_one_row(s)      \n",
    "Sum_one_column(s)\n",
    "\n"
   ]
  },
  {
   "cell_type": "code",
   "execution_count": null,
   "metadata": {},
   "outputs": [],
   "source": []
  },
  {
   "cell_type": "code",
   "execution_count": null,
   "metadata": {},
   "outputs": [],
   "source": []
  }
 ],
 "metadata": {
  "kernelspec": {
   "display_name": "Python 3",
   "language": "python",
   "name": "python3"
  },
  "language_info": {
   "codemirror_mode": {
    "name": "ipython",
    "version": 3
   },
   "file_extension": ".py",
   "mimetype": "text/x-python",
   "name": "python",
   "nbconvert_exporter": "python",
   "pygments_lexer": "ipython3",
   "version": "3.10.9"
  },
  "orig_nbformat": 4,
  "vscode": {
   "interpreter": {
    "hash": "145d699a7c867e2132605a4c9c8e0a15bef78fe5e04d90a2331adbbc224e1427"
   }
  }
 },
 "nbformat": 4,
 "nbformat_minor": 2
}
