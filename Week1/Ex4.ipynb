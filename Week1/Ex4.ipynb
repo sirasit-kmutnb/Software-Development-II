{
 "cells": [
  {
   "cell_type": "code",
   "execution_count": 2,
   "metadata": {},
   "outputs": [],
   "source": [
    "def isDuplicated(Array):\n",
    "    for i in range(len(Array)):\n",
    "        for j in range(len(Array)):\n",
    "            if i == j:\n",
    "                pass\n",
    "            elif Array[i] == Array[j]:\n",
    "                return True\n",
    "    return False"
   ]
  },
  {
   "cell_type": "code",
   "execution_count": 8,
   "metadata": {},
   "outputs": [
    {
     "data": {
      "text/plain": [
       "False"
      ]
     },
     "execution_count": 8,
     "metadata": {},
     "output_type": "execute_result"
    },
    {
     "ename": "",
     "evalue": "",
     "output_type": "error",
     "traceback": [
      "\u001b[1;31mThe Kernel crashed while executing code in the the current cell or a previous cell. Please review the code in the cell(s) to identify a possible cause of the failure. Click <a href='https://aka.ms/vscodeJupyterKernelCrash'>here</a> for more info. View Jupyter <a href='command:jupyter.viewOutput'>log</a> for further details."
     ]
    }
   ],
   "source": [
    "isDuplicated([1,2,3,4])"
   ]
  },
  {
   "cell_type": "code",
   "execution_count": 46,
   "metadata": {},
   "outputs": [],
   "source": [
    "def isDuplicatedIm(Array):\n",
    "    if len(Array) == 0:\n",
    "        return \"Null\"\n",
    "    saveIndex = {}\n",
    "    result = []\n",
    "    for i in range(len(Array)): \n",
    "        try:\n",
    "            saveIndex[Array[i]]['index'].append(i)\n",
    "            saveIndex[Array[i]]['count'] = len(saveIndex[Array[i]]['index'])\n",
    "        except:\n",
    "            saveIndex[Array[i]] = {'index':[i]}\n",
    "            saveIndex[Array[i]]['count'] = len(saveIndex[Array[i]]['index'])\n",
    "    for j in saveIndex:\n",
    "        if saveIndex[j]['count'] > 1:\n",
    "            result.append(f\"{j} , index : {saveIndex[j]['index']} , count : {saveIndex[j]['count']}\")\n",
    "    if len(result) == 0:\n",
    "        return False\n",
    "    return result"
   ]
  },
  {
   "cell_type": "code",
   "execution_count": 49,
   "metadata": {},
   "outputs": [
    {
     "data": {
      "text/plain": [
       "['4 , index : [3, 4] , count : 2']"
      ]
     },
     "execution_count": 49,
     "metadata": {},
     "output_type": "execute_result"
    }
   ],
   "source": [
    "isDuplicatedIm([1,2,3,4,4,5])"
   ]
  }
 ],
 "metadata": {
  "kernelspec": {
   "display_name": "Python 3.10.9 64-bit (microsoft store)",
   "language": "python",
   "name": "python3"
  },
  "language_info": {
   "codemirror_mode": {
    "name": "ipython",
    "version": 3
   },
   "file_extension": ".py",
   "mimetype": "text/x-python",
   "name": "python",
   "nbconvert_exporter": "python",
   "pygments_lexer": "ipython3",
   "version": "3.10.9"
  },
  "orig_nbformat": 4,
  "vscode": {
   "interpreter": {
    "hash": "cd153f557e0f61c9294d2f52e01319636137078114cd550e1f4d282aa52eb66d"
   }
  }
 },
 "nbformat": 4,
 "nbformat_minor": 2
}
