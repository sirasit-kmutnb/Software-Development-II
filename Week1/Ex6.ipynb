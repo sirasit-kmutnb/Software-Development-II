{
 "cells": [
  {
   "cell_type": "code",
   "execution_count": 11,
   "metadata": {},
   "outputs": [],
   "source": [
    "def tenRow(s):\n",
    "    c = 0\n",
    "    for i in range(len(s)):\n",
    "        for j in range(len(s)-1):\n",
    "            x = s[i][j]\n",
    "            for k in range(j+1,len(s)):\n",
    "                x += s[i][k]\n",
    "                if x == 10:c += 1\n",
    "                elif x < 10:continue\n",
    "                else:break\n",
    "    return c"
   ]
  },
  {
   "cell_type": "code",
   "execution_count": 12,
   "metadata": {},
   "outputs": [],
   "source": [
    "def tenColumn(s):\n",
    "    c = 0\n",
    "    for i in range(len(s)):\n",
    "        for j in range(len(s)-1):\n",
    "            x = s[j][i]\n",
    "            for k in range(j+1,len(s)):\n",
    "                x += s[k][i]\n",
    "                if x == 10: c += 1\n",
    "                elif x < 10: continue\n",
    "                else: break\n",
    "    return c"
   ]
  },
  {
   "cell_type": "code",
   "execution_count": 13,
   "metadata": {},
   "outputs": [],
   "source": [
    "def findTen():\n",
    "    a = int(input())\n",
    "    for i in range(a):\n",
    "        n = int(input())\n",
    "        lis = []\n",
    "        for n in range(n):\n",
    "            lis.append([int(i) for i in input().split(\" \")])\n",
    "        print(tenRow(lis)+tenColumn(lis))"
   ]
  },
  {
   "cell_type": "code",
   "execution_count": 14,
   "metadata": {},
   "outputs": [
    {
     "name": "stdout",
     "output_type": "stream",
     "text": [
      "0\n"
     ]
    }
   ],
   "source": [
    "findTen()"
   ]
  }
 ],
 "metadata": {
  "kernelspec": {
   "display_name": "Python 3",
   "language": "python",
   "name": "python3"
  },
  "language_info": {
   "codemirror_mode": {
    "name": "ipython",
    "version": 3
   },
   "file_extension": ".py",
   "mimetype": "text/x-python",
   "name": "python",
   "nbconvert_exporter": "python",
   "pygments_lexer": "ipython3",
   "version": "3.10.9 (tags/v3.10.9:1dd9be6, Dec  6 2022, 20:01:21) [MSC v.1934 64 bit (AMD64)]"
  },
  "orig_nbformat": 4,
  "vscode": {
   "interpreter": {
    "hash": "145d699a7c867e2132605a4c9c8e0a15bef78fe5e04d90a2331adbbc224e1427"
   }
  }
 },
 "nbformat": 4,
 "nbformat_minor": 2
}
