{
 "cells": [
  {
   "cell_type": "code",
   "execution_count": 16,
   "metadata": {},
   "outputs": [],
   "source": [
    "def Sum10(Array):\n",
    "    Array.sort()\n",
    "    for i in range(len(Array)-2):\n",
    "        PF = i + 1\n",
    "        PL = len(Array)-1\n"
   ]
  },
  {
   "cell_type": "code",
   "execution_count": 17,
   "metadata": {},
   "outputs": [
    {
     "name": "stdout",
     "output_type": "stream",
     "text": [
      "-3 , -2 , -1\n",
      "-2 , -1 , 0\n",
      "-1 , 0 , 1\n",
      "0 , 1 , 2\n",
      "[-3, -2, -1, 0, 1, 2]\n"
     ]
    }
   ],
   "source": [
    "InputA = [0, -1, 2, -3, 1, -2]\n",
    "Sum10(InputA)"
   ]
  },
  {
   "cell_type": "code",
   "execution_count": null,
   "metadata": {},
   "outputs": [],
   "source": []
  }
 ],
 "metadata": {
  "kernelspec": {
   "display_name": "Python 3.10.9 64-bit (microsoft store)",
   "language": "python",
   "name": "python3"
  },
  "language_info": {
   "codemirror_mode": {
    "name": "ipython",
    "version": 3
   },
   "file_extension": ".py",
   "mimetype": "text/x-python",
   "name": "python",
   "nbconvert_exporter": "python",
   "pygments_lexer": "ipython3",
   "version": "3.10.9"
  },
  "orig_nbformat": 4,
  "vscode": {
   "interpreter": {
    "hash": "145d699a7c867e2132605a4c9c8e0a15bef78fe5e04d90a2331adbbc224e1427"
   }
  }
 },
 "nbformat": 4,
 "nbformat_minor": 2
}
