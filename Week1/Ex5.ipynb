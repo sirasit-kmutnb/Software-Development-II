{
 "cells": [
  {
   "cell_type": "code",
   "execution_count": 25,
   "metadata": {},
   "outputs": [],
   "source": [
    "def Sum10(Array):\n",
    "    Array.sort()\n",
    "    for i in range(len(Array)):\n",
    "        print(i)\n",
    "    print(Array)\n"
   ]
  },
  {
   "cell_type": "code",
   "execution_count": 26,
   "metadata": {},
   "outputs": [
    {
     "name": "stdout",
     "output_type": "stream",
     "text": [
      "0\n",
      "1\n",
      "2\n",
      "3\n",
      "4\n",
      "5\n",
      "[-3, -2, -1, 0, 1, 2]\n"
     ]
    }
   ],
   "source": [
    "InputA = [0, -1, 2, -3, 1, -2]\n",
    "Sum10(InputA)"
   ]
  },
  {
   "cell_type": "code",
   "execution_count": 28,
   "metadata": {},
   "outputs": [
    {
     "name": "stdout",
     "output_type": "stream",
     "text": [
      "Triplet is 4 ,  8 ,  10\n"
     ]
    },
    {
     "data": {
      "text/plain": [
       "True"
      ]
     },
     "execution_count": 28,
     "metadata": {},
     "output_type": "execute_result"
    }
   ],
   "source": [
    "def find3Numbers(A, arr_size, sum):\n",
    "    for i in range(0, arr_size-1):\n",
    "        # Find pair in subarray A[i + 1..n-1]\n",
    "        # with sum equal to sum - A[i]\n",
    "        s = set()\n",
    "        curr_sum = sum - A[i]\n",
    "        for j in range(i + 1, arr_size):\n",
    "            if (curr_sum - A[j]) in s:\n",
    "                print(\"Triplet is\", A[i],\n",
    "                        \", \", A[j], \", \", curr_sum-A[j])\n",
    "                return True\n",
    "            s.add(A[j])\n",
    "     \n",
    "    return False\n",
    " \n",
    "# Driver program to test above function\n",
    "A = [1, 4, 45, 6, 10, 8]\n",
    "sum = 22\n",
    "arr_size = len(A)\n",
    "find3Numbers(A, arr_size, sum)"
   ]
  },
  {
   "cell_type": "code",
   "execution_count": 14,
   "metadata": {},
   "outputs": [],
   "source": [
    "def sumZero(a):\n",
    "    b = []\n",
    "    a.sort()\n",
    "    for i in range(len(a)-2):\n",
    "        left_pointer,right_pointer = i+1,len(a)-1\n",
    "        while left_pointer != right_pointer:\n",
    "            if a[i] + a[left_pointer] + a[right_pointer] == 0:\n",
    "                b.append([a[i],a[left_pointer],a[right_pointer]])\n",
    "                break\n",
    "            elif a[i] + a[left_pointer] + a[right_pointer] < 0:left_pointer += 1\n",
    "            elif a[i] + a[left_pointer] + a[right_pointer] > 0:right_pointer -= 1\n",
    "    return b"
   ]
  },
  {
   "cell_type": "code",
   "execution_count": 15,
   "metadata": {},
   "outputs": [
    {
     "data": {
      "text/plain": [
       "[[-3, 1, 2], [-2, 0, 2], [-1, 0, 1]]"
      ]
     },
     "execution_count": 15,
     "metadata": {},
     "output_type": "execute_result"
    }
   ],
   "source": [
    "sumZero([0, -1, 2, -3, 1, -2])"
   ]
  }
 ],
 "metadata": {
  "kernelspec": {
   "display_name": "Python 3.10.9 64-bit (microsoft store)",
   "language": "python",
   "name": "python3"
  },
  "language_info": {
   "codemirror_mode": {
    "name": "ipython",
    "version": 3
   },
   "file_extension": ".py",
   "mimetype": "text/x-python",
   "name": "python",
   "nbconvert_exporter": "python",
   "pygments_lexer": "ipython3",
   "version": "3.10.9 (tags/v3.10.9:1dd9be6, Dec  6 2022, 20:01:21) [MSC v.1934 64 bit (AMD64)]"
  },
  "orig_nbformat": 4,
  "vscode": {
   "interpreter": {
    "hash": "145d699a7c867e2132605a4c9c8e0a15bef78fe5e04d90a2331adbbc224e1427"
   }
  }
 },
 "nbformat": 4,
 "nbformat_minor": 2
}
