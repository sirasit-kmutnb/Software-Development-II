{
 "cells": [
  {
   "cell_type": "code",
   "execution_count": null,
   "metadata": {},
   "outputs": [],
   "source": [
    "# def sumZero(Array):\n",
    "    "
   ]
  },
  {
   "cell_type": "code",
   "execution_count": 14,
   "metadata": {},
   "outputs": [],
   "source": [
    "def sumZero(a):\n",
    "    b = []\n",
    "    a.sort()\n",
    "    for i in range(len(a)):\n",
    "        left_pointer = i+1\n",
    "        right_pointer = len(a)-1\n",
    "        if left_pointer == len(a):\n",
    "            break\n",
    "        while left_pointer != right_pointer:\n",
    "            s = a[i] + a[left_pointer] + a[right_pointer]\n",
    "            if s == 0:\n",
    "                b.append([a[i],a[left_pointer],a[right_pointer]])\n",
    "                break\n",
    "            elif s < 0:\n",
    "                left_pointer += 1\n",
    "                continue\n",
    "            elif s > 0:\n",
    "                right_pointer -= 1\n",
    "                continue\n",
    "    return b"
   ]
  },
  {
   "cell_type": "code",
   "execution_count": 16,
   "metadata": {},
   "outputs": [
    {
     "data": {
      "text/plain": [
       "[[-3, 1, 2], [-2, 0, 2], [-1, 0, 1]]"
      ]
     },
     "execution_count": 16,
     "metadata": {},
     "output_type": "execute_result"
    }
   ],
   "source": [
    "sumZero([0, -1, 2, -3, 1, -2])"
   ]
  }
 ],
 "metadata": {
  "kernelspec": {
   "display_name": "Python 3.10.9 64-bit (microsoft store)",
   "language": "python",
   "name": "python3"
  },
  "language_info": {
   "codemirror_mode": {
    "name": "ipython",
    "version": 3
   },
   "file_extension": ".py",
   "mimetype": "text/x-python",
   "name": "python",
   "nbconvert_exporter": "python",
   "pygments_lexer": "ipython3",
   "version": "3.10.9"
  },
  "orig_nbformat": 4,
  "vscode": {
   "interpreter": {
    "hash": "cd153f557e0f61c9294d2f52e01319636137078114cd550e1f4d282aa52eb66d"
   }
  }
 },
 "nbformat": 4,
 "nbformat_minor": 2
}
