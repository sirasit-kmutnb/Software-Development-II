{
 "cells": [
  {
   "cell_type": "code",
   "execution_count": 5,
   "metadata": {},
   "outputs": [
    {
     "ename": "",
     "evalue": "",
     "output_type": "error",
     "traceback": [
      "\u001b[1;31mThe Kernel crashed while executing code in the the current cell or a previous cell. Please review the code in the cell(s) to identify a possible cause of the failure. Click <a href='https://aka.ms/vscodeJupyterKernelCrash'>here</a> for more info. View Jupyter <a href='command:jupyter.viewOutput'>log</a> for further details."
     ]
    }
   ],
   "source": [
    "from selenium import webdriver\n",
    "from selenium.webdriver.common.by import By\n",
    "import time\n",
    "from selenium.webdriver.chrome.options import Options\n",
    "import pyautogui\n",
    "\n",
    "index_number = 5\n",
    "\n",
    "chrome_options = Options()\n",
    "chrome_options.add_experimental_option(\"detach\", True)\n",
    "\n",
    "browser = webdriver.Chrome(options=chrome_options)\n",
    "# browser = webdriver.Chrome()\n",
    "\n",
    "browser.get('https://forms.gle/mC1ySFn63mZeiAeH8')\n",
    "time.sleep(5)\n",
    "\n",
    "text1 = browser.find_element(\n",
    "    By.XPATH, '//*[@id=\"mG61Hd\"]/div[2]/div/div[2]/div[1]/div/div/div[2]/div/div[1]/div/div[1]/input')\n",
    "text1.send_keys(\"Test\")\n",
    "\n",
    "\n",
    "radio = browser.find_element(By.XPATH, '//*[@id=\"i12\"]')\n",
    "radio.click()\n",
    "\n",
    "\n",
    "checkbox = browser.find_element(By.XPATH, '//*[@id=\"i23\"]')\n",
    "checkbox.click()\n",
    "\n",
    "checkbox = browser.find_element(By.XPATH, '//*[@id=\"i26\"]')\n",
    "checkbox.click()\n",
    "\n",
    "# checkbox = browser.find_element(By.XPATH, '//*[@id=\"i29\"]')\n",
    "# checkbox.click()\n",
    "\n",
    "\n",
    "dropdown = browser.find_element(\n",
    "    By.XPATH, '//*[@id=\"mG61Hd\"]/div[2]/div/div[2]/div[4]/div/div/div[2]/div/div[1]/div[1]/div[1]')\n",
    "dropdown.click()\n",
    "for _ in range(index_number):\n",
    "    pyautogui.keyDown('down'); pyautogui.keyUp('down')\n",
    "pyautogui.keyDown('enter'); pyautogui.keyUp('enter')\n",
    "\n",
    "submit = browser.find_element(By.XPATH, '//*[@id=\"mG61Hd\"]/div[2]/div/div[3]/div[1]/div[1]/div/span')\n",
    "submit.click()"
   ]
  },
  {
   "cell_type": "code",
   "execution_count": 1,
   "metadata": {},
   "outputs": [
    {
     "name": "stdout",
     "output_type": "stream",
     "text": [
      "Auto Fills\n"
     ]
    }
   ],
   "source": [
    "from selenium import webdriver\n",
    "from selenium.webdriver.common.by import By\n",
    "import time\n",
    "from selenium.webdriver.chrome.options import Options\n",
    "import pyautogui\n",
    "\n",
    "index_number = 5\n",
    "\n",
    "chrome_options = Options()\n",
    "chrome_options.add_experimental_option(\"detach\", True)\n",
    "\n",
    "browser = webdriver.Chrome(options=chrome_options)\n",
    "# browser = webdriver.Chrome()\n",
    "\n",
    "browser.get('https://forms.gle/mC1ySFn63mZeiAeH8')\n",
    "time.sleep(5)\n",
    "topic = browser.find_element(By.XPATH, '//*[@id=\"mG61Hd\"]/div[2]/div/div[1]/div/div[2]/div[1]/div')\n",
    "print(topic.text)"
   ]
  },
  {
   "cell_type": "code",
   "execution_count": null,
   "metadata": {},
   "outputs": [],
   "source": []
  }
 ],
 "metadata": {
  "kernelspec": {
   "display_name": "Python 3.11.0 64-bit",
   "language": "python",
   "name": "python3"
  },
  "language_info": {
   "codemirror_mode": {
    "name": "ipython",
    "version": 3
   },
   "file_extension": ".py",
   "mimetype": "text/x-python",
   "name": "python",
   "nbconvert_exporter": "python",
   "pygments_lexer": "ipython3",
   "version": "3.11.0"
  },
  "orig_nbformat": 4,
  "vscode": {
   "interpreter": {
    "hash": "aee8b7b246df8f9039afb4144a1f6fd8d2ca17a180786b69acc140d282b71a49"
   }
  }
 },
 "nbformat": 4,
 "nbformat_minor": 2
}
