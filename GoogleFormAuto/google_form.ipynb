{
 "cells": [
  {
   "cell_type": "code",
   "execution_count": 4,
   "metadata": {},
   "outputs": [],
   "source": [
    "from selenium import webdriver\n",
    "from selenium.webdriver.common.by import By\n",
    "import time\n",
    "from selenium.webdriver.chrome.options import Options\n",
    "import pyautogui\n",
    "\n",
    "index_number = 5\n",
    "\n",
    "chrome_options = Options()\n",
    "chrome_options.add_experimental_option(\"detach\", True)\n",
    "\n",
    "browser = webdriver.Chrome(options=chrome_options)\n",
    "# browser = webdriver.Chrome()\n",
    "\n",
    "browser.get('https://forms.gle/mC1ySFn63mZeiAeH8')\n",
    "time.sleep(5)\n",
    "\n",
    "text1 = browser.find_element(\n",
    "    By.XPATH, '//*[@id=\"mG61Hd\"]/div[2]/div/div[2]/div[1]/div/div/div[2]/div/div[1]/div/div[1]/input')\n",
    "text1.send_keys(\"Test\")\n",
    "\n",
    "\n",
    "radio = browser.find_element(By.XPATH, '//*[@id=\"i12\"]')\n",
    "radio.click()\n",
    "\n",
    "\n",
    "checkbox = browser.find_element(By.XPATH, '//*[@id=\"i23\"]')\n",
    "checkbox.click()\n",
    "\n",
    "checkbox = browser.find_element(By.XPATH, '//*[@id=\"i26\"]')\n",
    "checkbox.click()\n",
    "\n",
    "checkbox = browser.find_element(By.XPATH, '//*[@id=\"i29\"]')\n",
    "checkbox.click()\n",
    "\n",
    "\n",
    "dropdown = browser.find_element(\n",
    "    By.XPATH, '//*[@id=\"mG61Hd\"]/div[2]/div/div[2]/div[4]/div/div/div[2]/div/div[1]/div[1]/div[1]')\n",
    "dropdown.click()\n",
    "for _ in range(index_number):\n",
    "    pyautogui.keyDown('down'); pyautogui.keyUp('down')\n",
    "pyautogui.keyDown('enter'); pyautogui.keyUp('enter')\n",
    "\n",
    "submit = browser.find_element(By.XPATH, '//*[@id=\"mG61Hd\"]/div[2]/div/div[3]/div[1]/div[1]/div/span')\n",
    "submit.click()"
   ]
  },
  {
   "cell_type": "code",
   "execution_count": null,
   "metadata": {},
   "outputs": [],
   "source": []
  }
 ],
 "metadata": {
  "kernelspec": {
   "display_name": "Python 3",
   "language": "python",
   "name": "python3"
  },
  "language_info": {
   "codemirror_mode": {
    "name": "ipython",
    "version": 3
   },
   "file_extension": ".py",
   "mimetype": "text/x-python",
   "name": "python",
   "nbconvert_exporter": "python",
   "pygments_lexer": "ipython3",
   "version": "3.9.6"
  },
  "orig_nbformat": 4,
  "vscode": {
   "interpreter": {
    "hash": "31f2aee4e71d21fbe5cf8b01ff0e069b9275f58929596ceb00d14d90e3e16cd6"
   }
  }
 },
 "nbformat": 4,
 "nbformat_minor": 2
}
