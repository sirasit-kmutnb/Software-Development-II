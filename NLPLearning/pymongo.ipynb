{
 "cells": [
  {
   "cell_type": "code",
   "execution_count": 26,
   "metadata": {},
   "outputs": [
    {
     "name": "stdout",
     "output_type": "stream",
     "text": [
      "2023-01-07 00:04:58\n",
      "2023-01-07 00:04:57\n",
      "2023-01-07 00:02:06\n",
      "2023-01-07 00:00:45\n"
     ]
    }
   ],
   "source": [
    "import pymongo\n",
    "import datetime\n",
    "client = pymongo.MongoClient('localhost', 27017)\n",
    "db = client[\"twitter\"]\n",
    "__db = db[\"tweetsv1\"]\n",
    "# for i in __db.find({\"tweet_author\": \"yosa_90_\"}):\n",
    "for i in __db.find({\"tweet_create_at\": {\n",
    "    \"$gt\": datetime.datetime(2023, 1, 7, 0, 0, 0),\n",
    "    \"$lt\": datetime.datetime(2023, 1, 7, 0, 5, 0)\n",
    "}}):\n",
    "        print(i[\"tweet_create_at\"])\n"
   ]
  },
  {
   "cell_type": "code",
   "execution_count": 19,
   "metadata": {},
   "outputs": [
    {
     "name": "stdout",
     "output_type": "stream",
     "text": [
      "{'_id': ObjectId('63ba47de248f5ef319f5d74f'), 'tweet_author': 'yosa_90_', 'tweet_create_at': datetime.datetime(2023, 1, 8, 4, 26, 22), 'hashtag': '#花譜美術部#花譜#イラスト', 'keyword': '花譜', 'text': '花譜ちゃんを落描き\\n #花譜美術部 #花譜 #イラスト https://t.co/03VE7rZOyL'}\n",
      "{'_id': ObjectId('63ba47de248f5ef319f5d751'), 'tweet_author': 'yosa_90_', 'tweet_create_at': datetime.datetime(2023, 1, 8, 4, 26, 14), 'hashtag': '#花譜美術部', 'keyword': '花譜', 'text': '#花譜美術部\\n花譜ちゃん https://t.co/z4EEOlZR22'}\n",
      "{'_id': ObjectId('63ba47e7248f5ef319f5dda6'), 'tweet_author': 'yosa_90_', 'tweet_create_at': datetime.datetime(2023, 1, 7, 6, 23, 7), 'hashtag': '', 'keyword': '花譜', 'text': '大晦日！年内にお知らせしそびれたものを。花譜さんの『ラムのラブソング』cover イラスト描きました。キュート全振りの花譜さん、素敵です。\\nhttps://t.co/lBJOSXWx1E https://t.co/cOFqifnV6y'}\n",
      "{'_id': ObjectId('63ba47e7248f5ef319f5ddaa'), 'tweet_author': 'yosa_90_', 'tweet_create_at': datetime.datetime(2023, 1, 7, 6, 15, 38), 'hashtag': '#花譜美術部', 'keyword': '花譜', 'text': 'どや花譜。 #花譜美術部 https://t.co/dHg9cv4GUd'}\n",
      "{'_id': ObjectId('63ba47e7248f5ef319f5ddaf'), 'tweet_author': 'yosa_90_', 'tweet_create_at': datetime.datetime(2023, 1, 7, 6, 15, 16), 'hashtag': '#花譜美術部', 'keyword': '花譜', 'text': '精神を壊す星の光\\n\\n#花譜美術部 ぁぁ#花譜 https://t.co/CJXdabhlSH'}\n",
      "{'_id': ObjectId('63ba47e7248f5ef319f5ddb1'), 'tweet_author': 'yosa_90_', 'tweet_create_at': datetime.datetime(2023, 1, 7, 6, 15, 12), 'hashtag': '#花譜#花譜美術部', 'keyword': '花譜', 'text': '明けましておめでとうございます。\\n今年は画力向上の一年していきたいです&lt;(_ _)&gt;\\n何卒宜しくお願い致します。\\n新年描初めの花譜ちゃんです\\n#花譜 \\n#花譜美術部 https://t.co/MlMyU8B52Y'}\n",
      "{'_id': ObjectId('63ba47e7248f5ef319f5ddb7'), 'tweet_author': 'yosa_90_', 'tweet_create_at': datetime.datetime(2023, 1, 7, 6, 14, 42), 'hashtag': '#花譜#花譜美術部', 'keyword': '花譜', 'text': '新年あけましておめでとうございます\\n遅くなりましたが、謹賀新年初描きです…！\\n今年も花譜ちゃん沢山描いていきます✍️\\n2023年是非よろしくお願いします！🐇\\n#花譜 #花譜美術部 https://t.co/xNk0FLZVUY'}\n"
     ]
    }
   ],
   "source": [
    "import pymongo\n",
    "client = pymongo.MongoClient('localhost', 27017)\n",
    "db = client[\"twitter\"]\n",
    "__db = db[\"tweetsv1\"]\n",
    "for i in __db.find({\"tweet_author\": \"yosa_90_\"}):\n",
    "        print(i)\n"
   ]
  },
  {
   "cell_type": "code",
   "execution_count": null,
   "metadata": {},
   "outputs": [],
   "source": []
  }
 ],
 "metadata": {
  "kernelspec": {
   "display_name": "Python 3",
   "language": "python",
   "name": "python3"
  },
  "language_info": {
   "codemirror_mode": {
    "name": "ipython",
    "version": 3
   },
   "file_extension": ".py",
   "mimetype": "text/x-python",
   "name": "python",
   "nbconvert_exporter": "python",
   "pygments_lexer": "ipython3",
   "version": "3.10.9"
  },
  "orig_nbformat": 4,
  "vscode": {
   "interpreter": {
    "hash": "145d699a7c867e2132605a4c9c8e0a15bef78fe5e04d90a2331adbbc224e1427"
   }
  }
 },
 "nbformat": 4,
 "nbformat_minor": 2
}
