{
 "cells": [
  {
   "cell_type": "code",
   "execution_count": 6,
   "metadata": {},
   "outputs": [
    {
     "ename": "AttributeError",
     "evalue": "'str' object has no attribute 'astimezone'",
     "output_type": "error",
     "traceback": [
      "\u001b[0;31m---------------------------------------------------------------------------\u001b[0m",
      "\u001b[0;31mAttributeError\u001b[0m                            Traceback (most recent call last)",
      "Cell \u001b[0;32mIn[6], line 11\u001b[0m\n\u001b[1;32m      8\u001b[0m     local_dt \u001b[39m=\u001b[39m utc_dt\u001b[39m.\u001b[39mastimezone(local_tz)\n\u001b[1;32m      9\u001b[0m     \u001b[39mreturn\u001b[39;00m local_tz\u001b[39m.\u001b[39mnormalize(local_dt) \n\u001b[0;32m---> 11\u001b[0m utc_to_local(local_dt)\n",
      "Cell \u001b[0;32mIn[6], line 8\u001b[0m, in \u001b[0;36mutc_to_local\u001b[0;34m(utc_dt)\u001b[0m\n\u001b[1;32m      7\u001b[0m \u001b[39mdef\u001b[39;00m \u001b[39mutc_to_local\u001b[39m(utc_dt):\n\u001b[0;32m----> 8\u001b[0m     local_dt \u001b[39m=\u001b[39m utc_dt\u001b[39m.\u001b[39;49mastimezone(local_tz)\n\u001b[1;32m      9\u001b[0m     \u001b[39mreturn\u001b[39;00m local_tz\u001b[39m.\u001b[39mnormalize(local_dt)\n",
      "\u001b[0;31mAttributeError\u001b[0m: 'str' object has no attribute 'astimezone'"
     ]
    }
   ],
   "source": [
    "import datetime\n",
    "import pytz\n",
    "\n",
    "local_tz = pytz.timezone('Asia/Bangkok')\n",
    "local_dt = datetime.datetime.utcnow().isoformat()\n",
    "\n",
    "def utc_to_local(utc_dt):\n",
    "    local_dt = pytz.utc\n",
    "    return local_tz.normalize(local_dt) \n",
    "\n",
    "utc_to_local(local_dt)"
   ]
  },
  {
   "cell_type": "code",
   "execution_count": null,
   "metadata": {},
   "outputs": [],
   "source": []
  }
 ],
 "metadata": {
  "kernelspec": {
   "display_name": "Python 3.11.0 64-bit",
   "language": "python",
   "name": "python3"
  },
  "language_info": {
   "codemirror_mode": {
    "name": "ipython",
    "version": 3
   },
   "file_extension": ".py",
   "mimetype": "text/x-python",
   "name": "python",
   "nbconvert_exporter": "python",
   "pygments_lexer": "ipython3",
   "version": "3.11.0"
  },
  "orig_nbformat": 4,
  "vscode": {
   "interpreter": {
    "hash": "aee8b7b246df8f9039afb4144a1f6fd8d2ca17a180786b69acc140d282b71a49"
   }
  }
 },
 "nbformat": 4,
 "nbformat_minor": 2
}
