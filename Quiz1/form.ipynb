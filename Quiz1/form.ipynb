{
 "cells": [
  {
   "cell_type": "code",
   "execution_count": 9,
   "metadata": {},
   "outputs": [
    {
     "name": "stderr",
     "output_type": "stream",
     "text": [
      "/var/folders/nx/r2305r0d0gqby37h6h_wn9p00000gn/T/ipykernel_22863/787695049.py:7: DeprecationWarning: executable_path has been deprecated, please pass in a Service object\n",
      "  browser = webdriver.Chrome(executable_path='/Volumes/SSDEx/chromedriver')\n"
     ]
    }
   ],
   "source": []
  },
  {
   "cell_type": "code",
   "execution_count": 23,
   "metadata": {},
   "outputs": [
    {
     "ename": "InvalidSelectorException",
     "evalue": "Message: invalid selector: Unable to locate an element with the xpath expression //div[@data-value='จงเลือกตัวเลือกที่ 1' because of the following error:\nSyntaxError: Failed to execute 'evaluate' on 'Document': The string '//div[@data-value='จงเลือกตัวเลือกที่ 1'' is not a valid XPath expression.\n  (Session info: chrome=108.0.5359.124)\nStacktrace:\n0   chromedriver                        0x0000000102bebf38 chromedriver + 4910904\n1   chromedriver                        0x0000000102b6ba03 chromedriver + 4385283\n2   chromedriver                        0x00000001027b0747 chromedriver + 472903\n3   chromedriver                        0x00000001027b4d28 chromedriver + 490792\n4   chromedriver                        0x00000001027b49f6 chromedriver + 489974\n5   chromedriver                        0x00000001027b4dfc chromedriver + 491004\n6   chromedriver                        0x00000001027f4f63 chromedriver + 753507\n7   chromedriver                        0x00000001027f55a1 chromedriver + 755105\n8   chromedriver                        0x0000000102838ed1 chromedriver + 1031889\n9   chromedriver                        0x000000010281b13d chromedriver + 909629\n10  chromedriver                        0x000000010283628e chromedriver + 1020558\n11  chromedriver                        0x000000010281aee3 chromedriver + 909027\n12  chromedriver                        0x00000001027e530c chromedriver + 688908\n13  chromedriver                        0x00000001027e688e chromedriver + 694414\n14  chromedriver                        0x0000000102bb91de chromedriver + 4702686\n15  chromedriver                        0x0000000102bbdb19 chromedriver + 4721433\n16  chromedriver                        0x0000000102bc528e chromedriver + 4752014\n17  chromedriver                        0x0000000102bbe91a chromedriver + 4725018\n18  chromedriver                        0x0000000102b92b02 chromedriver + 4545282\n19  chromedriver                        0x0000000102bdd888 chromedriver + 4851848\n20  chromedriver                        0x0000000102bdda05 chromedriver + 4852229\n21  chromedriver                        0x0000000102bf3e5f chromedriver + 4943455\n22  libsystem_pthread.dylib             0x00007ff801ab5259 _pthread_start + 125\n23  libsystem_pthread.dylib             0x00007ff801ab0c7b thread_start + 15\n",
     "output_type": "error",
     "traceback": [
      "\u001b[0;31m---------------------------------------------------------------------------\u001b[0m",
      "\u001b[0;31mInvalidSelectorException\u001b[0m                  Traceback (most recent call last)",
      "Cell \u001b[0;32mIn[23], line 17\u001b[0m\n\u001b[1;32m     14\u001b[0m time\u001b[39m.\u001b[39msleep(\u001b[39m2\u001b[39m)\n\u001b[1;32m     15\u001b[0m textboxes \u001b[39m=\u001b[39m browser\u001b[39m.\u001b[39mfind_elements(By\u001b[39m.\u001b[39mXPATH,\n\u001b[1;32m     16\u001b[0m                                 \u001b[39m'\u001b[39m\u001b[39m//*[@id=\u001b[39m\u001b[39m\"\u001b[39m\u001b[39mmG61Hd\u001b[39m\u001b[39m\"\u001b[39m\u001b[39m]/div[2]/div/div[2]/div[2]/div/div/div[2]/div/div[1]/div/div[1]/input\u001b[39m\u001b[39m'\u001b[39m)\n\u001b[0;32m---> 17\u001b[0m radiobuttons \u001b[39m=\u001b[39m browser\u001b[39m.\u001b[39;49mfind_elements(By\u001b[39m.\u001b[39;49mXPATH,\n\u001b[1;32m     18\u001b[0m                                 \u001b[39m\"\u001b[39;49m\u001b[39m//div[@data-value=\u001b[39;49m\u001b[39m'\u001b[39;49m\u001b[39mจงเลือกตัวเลือกที่ 1\u001b[39;49m\u001b[39m'\u001b[39;49m\u001b[39m\"\u001b[39;49m)\n\u001b[1;32m     19\u001b[0m \u001b[39m# checkboxes = browser.find_element(\"quantumWizTogglePapercheckboxInnerBox\")\u001b[39;00m\n\u001b[1;32m     20\u001b[0m submitbutton \u001b[39m=\u001b[39m browser\u001b[39m.\u001b[39mfind_elements(By\u001b[39m.\u001b[39mCLASS_NAME,\u001b[39m\"\u001b[39m\u001b[39muArJ5e UQuaGc Y5sE8d VkkpIf QvWxOd\u001b[39m\u001b[39m\"\u001b[39m)\n",
      "File \u001b[0;32m/Library/Frameworks/Python.framework/Versions/3.11/lib/python3.11/site-packages/selenium/webdriver/remote/webdriver.py:892\u001b[0m, in \u001b[0;36mWebDriver.find_elements\u001b[0;34m(self, by, value)\u001b[0m\n\u001b[1;32m    888\u001b[0m     value \u001b[39m=\u001b[39m \u001b[39m'\u001b[39m\u001b[39m[name=\u001b[39m\u001b[39m\"\u001b[39m\u001b[39m%s\u001b[39;00m\u001b[39m\"\u001b[39m\u001b[39m]\u001b[39m\u001b[39m'\u001b[39m \u001b[39m%\u001b[39m value\n\u001b[1;32m    890\u001b[0m \u001b[39m# Return empty list if driver returns null\u001b[39;00m\n\u001b[1;32m    891\u001b[0m \u001b[39m# See https://github.com/SeleniumHQ/selenium/issues/4555\u001b[39;00m\n\u001b[0;32m--> 892\u001b[0m \u001b[39mreturn\u001b[39;00m \u001b[39mself\u001b[39;49m\u001b[39m.\u001b[39;49mexecute(Command\u001b[39m.\u001b[39;49mFIND_ELEMENTS, {\u001b[39m\"\u001b[39;49m\u001b[39musing\u001b[39;49m\u001b[39m\"\u001b[39;49m: by, \u001b[39m\"\u001b[39;49m\u001b[39mvalue\u001b[39;49m\u001b[39m\"\u001b[39;49m: value})[\u001b[39m\"\u001b[39m\u001b[39mvalue\u001b[39m\u001b[39m\"\u001b[39m] \u001b[39mor\u001b[39;00m []\n",
      "File \u001b[0;32m/Library/Frameworks/Python.framework/Versions/3.11/lib/python3.11/site-packages/selenium/webdriver/remote/webdriver.py:444\u001b[0m, in \u001b[0;36mWebDriver.execute\u001b[0;34m(self, driver_command, params)\u001b[0m\n\u001b[1;32m    442\u001b[0m response \u001b[39m=\u001b[39m \u001b[39mself\u001b[39m\u001b[39m.\u001b[39mcommand_executor\u001b[39m.\u001b[39mexecute(driver_command, params)\n\u001b[1;32m    443\u001b[0m \u001b[39mif\u001b[39;00m response:\n\u001b[0;32m--> 444\u001b[0m     \u001b[39mself\u001b[39;49m\u001b[39m.\u001b[39;49merror_handler\u001b[39m.\u001b[39;49mcheck_response(response)\n\u001b[1;32m    445\u001b[0m     response[\u001b[39m\"\u001b[39m\u001b[39mvalue\u001b[39m\u001b[39m\"\u001b[39m] \u001b[39m=\u001b[39m \u001b[39mself\u001b[39m\u001b[39m.\u001b[39m_unwrap_value(response\u001b[39m.\u001b[39mget(\u001b[39m\"\u001b[39m\u001b[39mvalue\u001b[39m\u001b[39m\"\u001b[39m, \u001b[39mNone\u001b[39;00m))\n\u001b[1;32m    446\u001b[0m     \u001b[39mreturn\u001b[39;00m response\n",
      "File \u001b[0;32m/Library/Frameworks/Python.framework/Versions/3.11/lib/python3.11/site-packages/selenium/webdriver/remote/errorhandler.py:249\u001b[0m, in \u001b[0;36mErrorHandler.check_response\u001b[0;34m(self, response)\u001b[0m\n\u001b[1;32m    247\u001b[0m         alert_text \u001b[39m=\u001b[39m value[\u001b[39m\"\u001b[39m\u001b[39malert\u001b[39m\u001b[39m\"\u001b[39m]\u001b[39m.\u001b[39mget(\u001b[39m\"\u001b[39m\u001b[39mtext\u001b[39m\u001b[39m\"\u001b[39m)\n\u001b[1;32m    248\u001b[0m     \u001b[39mraise\u001b[39;00m exception_class(message, screen, stacktrace, alert_text)  \u001b[39m# type: ignore[call-arg]  # mypy is not smart enough here\u001b[39;00m\n\u001b[0;32m--> 249\u001b[0m \u001b[39mraise\u001b[39;00m exception_class(message, screen, stacktrace)\n",
      "\u001b[0;31mInvalidSelectorException\u001b[0m: Message: invalid selector: Unable to locate an element with the xpath expression //div[@data-value='จงเลือกตัวเลือกที่ 1' because of the following error:\nSyntaxError: Failed to execute 'evaluate' on 'Document': The string '//div[@data-value='จงเลือกตัวเลือกที่ 1'' is not a valid XPath expression.\n  (Session info: chrome=108.0.5359.124)\nStacktrace:\n0   chromedriver                        0x0000000102bebf38 chromedriver + 4910904\n1   chromedriver                        0x0000000102b6ba03 chromedriver + 4385283\n2   chromedriver                        0x00000001027b0747 chromedriver + 472903\n3   chromedriver                        0x00000001027b4d28 chromedriver + 490792\n4   chromedriver                        0x00000001027b49f6 chromedriver + 489974\n5   chromedriver                        0x00000001027b4dfc chromedriver + 491004\n6   chromedriver                        0x00000001027f4f63 chromedriver + 753507\n7   chromedriver                        0x00000001027f55a1 chromedriver + 755105\n8   chromedriver                        0x0000000102838ed1 chromedriver + 1031889\n9   chromedriver                        0x000000010281b13d chromedriver + 909629\n10  chromedriver                        0x000000010283628e chromedriver + 1020558\n11  chromedriver                        0x000000010281aee3 chromedriver + 909027\n12  chromedriver                        0x00000001027e530c chromedriver + 688908\n13  chromedriver                        0x00000001027e688e chromedriver + 694414\n14  chromedriver                        0x0000000102bb91de chromedriver + 4702686\n15  chromedriver                        0x0000000102bbdb19 chromedriver + 4721433\n16  chromedriver                        0x0000000102bc528e chromedriver + 4752014\n17  chromedriver                        0x0000000102bbe91a chromedriver + 4725018\n18  chromedriver                        0x0000000102b92b02 chromedriver + 4545282\n19  chromedriver                        0x0000000102bdd888 chromedriver + 4851848\n20  chromedriver                        0x0000000102bdda05 chromedriver + 4852229\n21  chromedriver                        0x0000000102bf3e5f chromedriver + 4943455\n22  libsystem_pthread.dylib             0x00007ff801ab5259 _pthread_start + 125\n23  libsystem_pthread.dylib             0x00007ff801ab0c7b thread_start + 15\n"
     ]
    }
   ],
   "source": [
    "from selenium import webdriver\n",
    "from selenium.webdriver.common.by import By\n",
    "from selenium.webdriver.chrome.service import Service as ChromeService\n",
    "#option.add_argument(\"--headless\")\n",
    "#option.add_argument(\"disable-gpu\")\n",
    "import time\n",
    "\n",
    "options = webdriver.ChromeOptions()\n",
    "options.add_experimental_option(\"detach\",True)\n",
    "service = ChromeService(executable_path=\"/path/to/chromedriver\")\n",
    "browser = webdriver.Chrome(service=service)\n",
    "browser.get(\"https://forms.gle/xphJfdQf4rJN8gvc8\")\n",
    "\n",
    "time.sleep(2)\n",
    "textboxes = browser.find_elements(By.XPATH,\n",
    "                                '//*[@id=\"mG61Hd\"]/div[2]/div/div[2]/div[2]/div/div/div[2]/div/div[1]/div/div[1]/input')\n",
    "radiobuttons = browser.find_elements(By.XPATH,\n",
    "                                '//*[@id=\"i5\"]')\n",
    "# checkboxes = browser.find_element(\"quantumWizTogglePapercheckboxInnerBox\")\n",
    "submitbutton = browser.find_elements(By.CLASS_NAME,\"uArJ5e UQuaGc Y5sE8d VkkpIf QvWxOd\")\n",
    "\n",
    "\n",
    "if textboxes:\n",
    "    # Send keys to the first textbox\n",
    "    textboxes[0].send_keys(\"Test\")\n",
    "else:\n",
    "    print(\"No textbox elements found\")\n",
    "    print(textboxes)\n",
    "\n",
    "if radiobuttons:\n",
    "    print(radiobuttons)\n",
    "    radiobuttons[0].click()\n",
    "else:\n",
    "    print('No radiobutton element found')"
   ]
  }
 ],
 "metadata": {
  "kernelspec": {
   "display_name": "Python 3",
   "language": "python",
   "name": "python3"
  },
  "language_info": {
   "codemirror_mode": {
    "name": "ipython",
    "version": 3
   },
   "file_extension": ".py",
   "mimetype": "text/x-python",
   "name": "python",
   "nbconvert_exporter": "python",
   "pygments_lexer": "ipython3",
   "version": "3.10.9 (tags/v3.10.9:1dd9be6, Dec  6 2022, 20:01:21) [MSC v.1934 64 bit (AMD64)]"
  },
  "orig_nbformat": 4,
  "vscode": {
   "interpreter": {
    "hash": "cd153f557e0f61c9294d2f52e01319636137078114cd550e1f4d282aa52eb66d"
   }
  }
 },
 "nbformat": 4,
 "nbformat_minor": 2
}
