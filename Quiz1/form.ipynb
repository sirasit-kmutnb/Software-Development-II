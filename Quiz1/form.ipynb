{
 "cells": [
  {
   "cell_type": "code",
   "execution_count": 1,
   "metadata": {},
   "outputs": [
    {
     "name": "stderr",
     "output_type": "stream",
     "text": [
      "/var/folders/nx/r2305r0d0gqby37h6h_wn9p00000gn/T/ipykernel_22863/1066718303.py:7: DeprecationWarning: executable_path has been deprecated, please pass in a Service object\n",
      "  browser = webdriver.Chrome(executable_path='/Volumes/SSDEx/chromedriver')\n"
     ]
    },
    {
     "name": "stdout",
     "output_type": "stream",
     "text": [
      "No textbox elements found\n",
      "[]\n"
     ]
    }
   ],
   "source": [
    "from selenium import webdriver\n",
    "from selenium.webdriver.common.by import By\n",
    "\n",
    "#option.add_argument(\"--headless\")\n",
    "#option.add_argument(\"disable-gpu\")\n",
    "\n",
    "browser = webdriver.Chrome(executable_path='/Volumes/SSDEx/chromedriver')\n",
    "\n",
    "browser.get(\"https://forms.gle/xphJfdQf4rJN8gvc8\")\n",
    "\n",
    "textboxes = browser.find_elements(By.XPATH,\"/html/body/div/div[2]/form/div[2]/div/div[2]/div[2]/div/div/div[2]/div/div[1]/div/div[1]/input\")\n",
    "# radiobuttons = browser.find_element(\"docssharedWizToggleLabeledLabelWrapper\")\n",
    "# checkboxes = browser.find_element(\"quantumWizTogglePapercheckboxInnerBox\")\n",
    "submitbutton = browser.find_elements(By.CLASS_NAME,\"uArJ5e UQuaGc Y5sE8d VkkpIf QvWxOd\")\n",
    "\n",
    "\n",
    "if textboxes:\n",
    "    # Send keys to the first textbox\n",
    "    textboxes[0].send_keys(\"Test\")\n",
    "else:\n",
    "    print(\"No textbox elements found\")\n",
    "    print(textboxes)"
   ]
  }
 ],
 "metadata": {
  "kernelspec": {
   "display_name": "Python 3.11.0 64-bit",
   "language": "python",
   "name": "python3"
  },
  "language_info": {
   "codemirror_mode": {
    "name": "ipython",
    "version": 3
   },
   "file_extension": ".py",
   "mimetype": "text/x-python",
   "name": "python",
   "nbconvert_exporter": "python",
   "pygments_lexer": "ipython3",
   "version": "3.11.0"
  },
  "orig_nbformat": 4,
  "vscode": {
   "interpreter": {
    "hash": "aee8b7b246df8f9039afb4144a1f6fd8d2ca17a180786b69acc140d282b71a49"
   }
  }
 },
 "nbformat": 4,
 "nbformat_minor": 2
}
