{
 "cells": [
  {
   "cell_type": "code",
   "execution_count": 9,
   "metadata": {},
   "outputs": [
    {
     "name": "stderr",
     "output_type": "stream",
     "text": [
      "/var/folders/nx/r2305r0d0gqby37h6h_wn9p00000gn/T/ipykernel_22863/787695049.py:7: DeprecationWarning: executable_path has been deprecated, please pass in a Service object\n",
      "  browser = webdriver.Chrome(executable_path='/Volumes/SSDEx/chromedriver')\n"
     ]
    }
   ],
   "source": []
  },
  {
   "cell_type": "code",
   "execution_count": 40,
   "metadata": {},
   "outputs": [
    {
     "name": "stdout",
     "output_type": "stream",
     "text": [
      "[<selenium.webdriver.remote.webelement.WebElement (session=\"6620619b08fd62e26f63af48877322f4\", element=\"f01ffa88-2fa9-43dd-bc0b-bc950f06f572\")>]\n"
     ]
    },
    {
     "ename": "",
     "evalue": "",
     "output_type": "error",
     "traceback": [
      "\u001b[1;31mThe Kernel crashed while executing code in the the current cell or a previous cell. Please review the code in the cell(s) to identify a possible cause of the failure. Click <a href='https://aka.ms/vscodeJupyterKernelCrash'>here</a> for more info. View Jupyter <a href='command:jupyter.viewOutput'>log</a> for further details."
     ]
    }
   ],
   "source": [
    "from selenium import webdriver\n",
    "from selenium.webdriver.common.by import By\n",
    "from selenium.webdriver.chrome.service import Service as ChromeService\n",
    "#option.add_argument(\"--headless\")\n",
    "#option.add_argument(\"disable-gpu\")\n",
    "import time\n",
    "import pyautogui\n",
    "\n",
    "options = webdriver.ChromeOptions()\n",
    "options.add_experimental_option(\"detach\",True)\n",
    "service = ChromeService(executable_path=\"/path/to/chromedriver\")\n",
    "browser = webdriver.Chrome(service=service)\n",
    "browser.get(\"https://forms.gle/t5EdrssatyCYcEBn8\")\n",
    "\n",
    "time.sleep(2)\n",
    "textboxes = browser.find_elements(By.XPATH,\n",
    "                                '//*[@id=\"mG61Hd\"]/div[2]/div/div[2]/div[2]/div/div/div[2]/div/div[1]/div/div[1]/input')\n",
    "radiobuttons = browser.find_elements(By.XPATH,\n",
    "                                '//*[@id=\"i5\"]')\n",
    "cb1 = browser.find_elements(By.XPATH,'//*[@id=\"i26\"]')\n",
    "cb2 = browser.find_elements(By.XPATH,'//*[@id=\"i29\"]')\n",
    "cb3 = browser.find_elements(By.XPATH,'//*[@id=\"i32\"]')\n",
    "\n",
    "dropdown = browser.find_elements(By.XPATH,'//*[@id=\"mG61Hd\"]/div[2]/div/div[2]/div[4]/div/div/div[2]/div')\n",
    "dchoice4 = browser.find_elements(By.XPATH,\n",
    "'//*[@id=\"mG61Hd\"]/div[2]/div/div[2]/div[4]/div/div/div[2]/div/div[2]')\n",
    "nextbutton = browser.find_elements(By.XPATH,'//*[@id=\"mG61Hd\"]/div[2]/div/div[3]/div[1]/div[1]/div/span')\n",
    "\n",
    "if textboxes:\n",
    "    # Send keys to the first textbox\n",
    "    textboxes[0].send_keys(\"Test\")\n",
    "else:\n",
    "    print(\"No textbox elements found\")\n",
    "    print(textboxes)\n",
    "\n",
    "\n",
    "if radiobuttons:\n",
    "    print(radiobuttons)\n",
    "    radiobuttons[0].click()\n",
    "else:\n",
    "    print('No radiobutton element found')\n",
    "\n",
    "\n",
    "if cb1 and cb2 and cb3:\n",
    "    cb1[0].click()\n",
    "    cb2[0].click()\n",
    "    cb3[0].click()\n",
    "else:\n",
    "    print('No checkbox element found')\n",
    "\n",
    "dropdown[0].click()\n",
    "for _ in range(5):\n",
    "    pyautogui.keyDown('down'); pyautogui.keyUp('down')\n",
    "    time.sleep(0.15)\n",
    "pyautogui.keyDown('enter'); pyautogui.keyUp('enter')\n",
    "\n",
    "nextbutton[0].click()\n",
    "\n",
    "time.sleep(0.5)\n",
    "textboxs2 = browser.find_element(By.XPATH,'//*[@id=\"mG61Hd\"]/div[2]/div/div[2]/div[2]/div/div/div[2]/div/div[1]/div/div[1]/input')\n",
    "submitbutton = browser.find_element(By.XPATH,'//*[@id=\"mG61Hd\"]/div[2]/div/div[3]/div[1]/div[1]/div[2]/span/span')\n",
    "\n",
    "\n",
    "textboxs2.send_keys(\"เอาไว้ให้คุณถาม\")\n",
    "submitbutton.click()\n"
   ]
  }
 ],
 "metadata": {
  "kernelspec": {
   "display_name": "Python 3",
   "language": "python",
   "name": "python3"
  },
  "language_info": {
   "codemirror_mode": {
    "name": "ipython",
    "version": 3
   },
   "file_extension": ".py",
   "mimetype": "text/x-python",
   "name": "python",
   "nbconvert_exporter": "python",
   "pygments_lexer": "ipython3",
   "version": "3.10.9 (tags/v3.10.9:1dd9be6, Dec  6 2022, 20:01:21) [MSC v.1934 64 bit (AMD64)]"
  },
  "orig_nbformat": 4,
  "vscode": {
   "interpreter": {
    "hash": "cd153f557e0f61c9294d2f52e01319636137078114cd550e1f4d282aa52eb66d"
   }
  }
 },
 "nbformat": 4,
 "nbformat_minor": 2
}
