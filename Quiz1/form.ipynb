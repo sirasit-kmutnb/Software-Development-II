{
 "cells": [
  {
   "cell_type": "code",
   "execution_count": 9,
   "metadata": {},
   "outputs": [
    {
     "name": "stderr",
     "output_type": "stream",
     "text": [
      "/var/folders/nx/r2305r0d0gqby37h6h_wn9p00000gn/T/ipykernel_22863/787695049.py:7: DeprecationWarning: executable_path has been deprecated, please pass in a Service object\n",
      "  browser = webdriver.Chrome(executable_path='/Volumes/SSDEx/chromedriver')\n"
     ]
    }
   ],
   "source": []
  },
  {
   "cell_type": "code",
   "execution_count": 6,
   "metadata": {},
   "outputs": [
    {
     "name": "stdout",
     "output_type": "stream",
     "text": [
      "[<selenium.webdriver.remote.webelement.WebElement (session=\"d796873b91ee62949d0ced789f8dc818\", element=\"21e23d4e-3b71-4472-b628-f27ff1e1af5b\")>]\n"
     ]
    },
    {
     "ename": "ElementNotInteractableException",
     "evalue": "Message: element not interactable\n  (Session info: chrome=108.0.5359.125)\nStacktrace:\nBacktrace:\n\t(No symbol) [0x003BF243]\n\t(No symbol) [0x00347FD1]\n\t(No symbol) [0x0023CF10]\n\t(No symbol) [0x0026795E]\n\t(No symbol) [0x002670E5]\n\t(No symbol) [0x0028858C]\n\t(No symbol) [0x00262BFF]\n\t(No symbol) [0x00288804]\n\t(No symbol) [0x0029C9EB]\n\t(No symbol) [0x00288386]\n\t(No symbol) [0x0026163C]\n\t(No symbol) [0x0026269D]\n\tGetHandleVerifier [0x00659A22+2655074]\n\tGetHandleVerifier [0x0064CA24+2601828]\n\tGetHandleVerifier [0x00468C0A+619850]\n\tGetHandleVerifier [0x00467830+614768]\n\t(No symbol) [0x003505FC]\n\t(No symbol) [0x00355968]\n\t(No symbol) [0x00355A55]\n\t(No symbol) [0x0036051B]\n\tBaseThreadInitThunk [0x75F17D69+25]\n\tRtlInitializeExceptionChain [0x7744BB9B+107]\n\tRtlClearBits [0x7744BB1F+191]\n",
     "output_type": "error",
     "traceback": [
      "\u001b[1;31m---------------------------------------------------------------------------\u001b[0m",
      "\u001b[1;31mElementNotInteractableException\u001b[0m           Traceback (most recent call last)",
      "\u001b[1;32me:\\Work\\Coding\\GitHub\\Software-Development-II\\Quiz1\\form.ipynb Cell 2\u001b[0m in \u001b[0;36m<cell line: 20>\u001b[1;34m()\u001b[0m\n\u001b[0;32m     <a href='vscode-notebook-cell:/e%3A/Work/Coding/GitHub/Software-Development-II/Quiz1/form.ipynb#W5sZmlsZQ%3D%3D?line=19'>20</a>\u001b[0m \u001b[39mif\u001b[39;00m textboxes:\n\u001b[0;32m     <a href='vscode-notebook-cell:/e%3A/Work/Coding/GitHub/Software-Development-II/Quiz1/form.ipynb#W5sZmlsZQ%3D%3D?line=20'>21</a>\u001b[0m     \u001b[39m# Send keys to the first textbox\u001b[39;00m\n\u001b[0;32m     <a href='vscode-notebook-cell:/e%3A/Work/Coding/GitHub/Software-Development-II/Quiz1/form.ipynb#W5sZmlsZQ%3D%3D?line=21'>22</a>\u001b[0m     \u001b[39mprint\u001b[39m(textboxes)\n\u001b[1;32m---> <a href='vscode-notebook-cell:/e%3A/Work/Coding/GitHub/Software-Development-II/Quiz1/form.ipynb#W5sZmlsZQ%3D%3D?line=22'>23</a>\u001b[0m     textboxes[\u001b[39m0\u001b[39;49m]\u001b[39m.\u001b[39;49msend_keys(\u001b[39m\"\u001b[39;49m\u001b[39mTest\u001b[39;49m\u001b[39m\"\u001b[39;49m)\n\u001b[0;32m     <a href='vscode-notebook-cell:/e%3A/Work/Coding/GitHub/Software-Development-II/Quiz1/form.ipynb#W5sZmlsZQ%3D%3D?line=23'>24</a>\u001b[0m \u001b[39melse\u001b[39;00m:\n\u001b[0;32m     <a href='vscode-notebook-cell:/e%3A/Work/Coding/GitHub/Software-Development-II/Quiz1/form.ipynb#W5sZmlsZQ%3D%3D?line=24'>25</a>\u001b[0m     \u001b[39mprint\u001b[39m(\u001b[39m\"\u001b[39m\u001b[39mNo textbox elements found\u001b[39m\u001b[39m\"\u001b[39m)\n",
      "File \u001b[1;32m~\\AppData\\Local\\Packages\\PythonSoftwareFoundation.Python.3.10_qbz5n2kfra8p0\\LocalCache\\local-packages\\Python310\\site-packages\\selenium\\webdriver\\remote\\webelement.py:600\u001b[0m, in \u001b[0;36mWebElement.send_keys\u001b[1;34m(self, *value)\u001b[0m\n\u001b[0;32m    597\u001b[0m             remote_files\u001b[39m.\u001b[39mappend(\u001b[39mself\u001b[39m\u001b[39m.\u001b[39m_upload(file))\n\u001b[0;32m    598\u001b[0m         value \u001b[39m=\u001b[39m \u001b[39m'\u001b[39m\u001b[39m\\n\u001b[39;00m\u001b[39m'\u001b[39m\u001b[39m.\u001b[39mjoin(remote_files)\n\u001b[1;32m--> 600\u001b[0m \u001b[39mself\u001b[39;49m\u001b[39m.\u001b[39;49m_execute(Command\u001b[39m.\u001b[39;49mSEND_KEYS_TO_ELEMENT,\n\u001b[0;32m    601\u001b[0m               {\u001b[39m'\u001b[39;49m\u001b[39mtext\u001b[39;49m\u001b[39m'\u001b[39;49m: \u001b[39m\"\u001b[39;49m\u001b[39m\"\u001b[39;49m\u001b[39m.\u001b[39;49mjoin(keys_to_typing(value)),\n\u001b[0;32m    602\u001b[0m                \u001b[39m'\u001b[39;49m\u001b[39mvalue\u001b[39;49m\u001b[39m'\u001b[39;49m: keys_to_typing(value)})\n",
      "File \u001b[1;32m~\\AppData\\Local\\Packages\\PythonSoftwareFoundation.Python.3.10_qbz5n2kfra8p0\\LocalCache\\local-packages\\Python310\\site-packages\\selenium\\webdriver\\remote\\webelement.py:773\u001b[0m, in \u001b[0;36mWebElement._execute\u001b[1;34m(self, command, params)\u001b[0m\n\u001b[0;32m    771\u001b[0m     params \u001b[39m=\u001b[39m {}\n\u001b[0;32m    772\u001b[0m params[\u001b[39m'\u001b[39m\u001b[39mid\u001b[39m\u001b[39m'\u001b[39m] \u001b[39m=\u001b[39m \u001b[39mself\u001b[39m\u001b[39m.\u001b[39m_id\n\u001b[1;32m--> 773\u001b[0m \u001b[39mreturn\u001b[39;00m \u001b[39mself\u001b[39;49m\u001b[39m.\u001b[39;49m_parent\u001b[39m.\u001b[39;49mexecute(command, params)\n",
      "File \u001b[1;32m~\\AppData\\Local\\Packages\\PythonSoftwareFoundation.Python.3.10_qbz5n2kfra8p0\\LocalCache\\local-packages\\Python310\\site-packages\\selenium\\webdriver\\remote\\webdriver.py:430\u001b[0m, in \u001b[0;36mWebDriver.execute\u001b[1;34m(self, driver_command, params)\u001b[0m\n\u001b[0;32m    428\u001b[0m response \u001b[39m=\u001b[39m \u001b[39mself\u001b[39m\u001b[39m.\u001b[39mcommand_executor\u001b[39m.\u001b[39mexecute(driver_command, params)\n\u001b[0;32m    429\u001b[0m \u001b[39mif\u001b[39;00m response:\n\u001b[1;32m--> 430\u001b[0m     \u001b[39mself\u001b[39;49m\u001b[39m.\u001b[39;49merror_handler\u001b[39m.\u001b[39;49mcheck_response(response)\n\u001b[0;32m    431\u001b[0m     response[\u001b[39m'\u001b[39m\u001b[39mvalue\u001b[39m\u001b[39m'\u001b[39m] \u001b[39m=\u001b[39m \u001b[39mself\u001b[39m\u001b[39m.\u001b[39m_unwrap_value(\n\u001b[0;32m    432\u001b[0m         response\u001b[39m.\u001b[39mget(\u001b[39m'\u001b[39m\u001b[39mvalue\u001b[39m\u001b[39m'\u001b[39m, \u001b[39mNone\u001b[39;00m))\n\u001b[0;32m    433\u001b[0m     \u001b[39mreturn\u001b[39;00m response\n",
      "File \u001b[1;32m~\\AppData\\Local\\Packages\\PythonSoftwareFoundation.Python.3.10_qbz5n2kfra8p0\\LocalCache\\local-packages\\Python310\\site-packages\\selenium\\webdriver\\remote\\errorhandler.py:247\u001b[0m, in \u001b[0;36mErrorHandler.check_response\u001b[1;34m(self, response)\u001b[0m\n\u001b[0;32m    245\u001b[0m         alert_text \u001b[39m=\u001b[39m value[\u001b[39m'\u001b[39m\u001b[39malert\u001b[39m\u001b[39m'\u001b[39m]\u001b[39m.\u001b[39mget(\u001b[39m'\u001b[39m\u001b[39mtext\u001b[39m\u001b[39m'\u001b[39m)\n\u001b[0;32m    246\u001b[0m     \u001b[39mraise\u001b[39;00m exception_class(message, screen, stacktrace, alert_text)  \u001b[39m# type: ignore[call-arg]  # mypy is not smart enough here\u001b[39;00m\n\u001b[1;32m--> 247\u001b[0m \u001b[39mraise\u001b[39;00m exception_class(message, screen, stacktrace)\n",
      "\u001b[1;31mElementNotInteractableException\u001b[0m: Message: element not interactable\n  (Session info: chrome=108.0.5359.125)\nStacktrace:\nBacktrace:\n\t(No symbol) [0x003BF243]\n\t(No symbol) [0x00347FD1]\n\t(No symbol) [0x0023CF10]\n\t(No symbol) [0x0026795E]\n\t(No symbol) [0x002670E5]\n\t(No symbol) [0x0028858C]\n\t(No symbol) [0x00262BFF]\n\t(No symbol) [0x00288804]\n\t(No symbol) [0x0029C9EB]\n\t(No symbol) [0x00288386]\n\t(No symbol) [0x0026163C]\n\t(No symbol) [0x0026269D]\n\tGetHandleVerifier [0x00659A22+2655074]\n\tGetHandleVerifier [0x0064CA24+2601828]\n\tGetHandleVerifier [0x00468C0A+619850]\n\tGetHandleVerifier [0x00467830+614768]\n\t(No symbol) [0x003505FC]\n\t(No symbol) [0x00355968]\n\t(No symbol) [0x00355A55]\n\t(No symbol) [0x0036051B]\n\tBaseThreadInitThunk [0x75F17D69+25]\n\tRtlInitializeExceptionChain [0x7744BB9B+107]\n\tRtlClearBits [0x7744BB1F+191]\n"
     ]
    }
   ],
   "source": [
    "from selenium import webdriver\n",
    "from selenium.webdriver.common.by import By\n",
    "from selenium.webdriver.chrome.service import Service as ChromeService\n",
    "#option.add_argument(\"--headless\")\n",
    "#option.add_argument(\"disable-gpu\")\n",
    "\n",
    "options = webdriver.ChromeOptions()\n",
    "options.add_experimental_option(\"detach\",True)\n",
    "service = ChromeService(executable_path=\"E:/Work/Coding/chromedriver.exe\")\n",
    "browser = webdriver.Chrome(service=service)\n",
    "browser.get(\"https://forms.gle/xphJfdQf4rJN8gvc8\")\n",
    "\n",
    "textboxes = browser.find_elements(By.XPATH,\n",
    "                                '//*[@id=\"mG61Hd\"]/div[2]/div/div[2]/div[2]/div/div/div[2]/div/div[1]/div/div[1]/input')\n",
    "# radiobuttons = browser.find_element(\"docssharedWizToggleLabeledLabelWrapper\")\n",
    "# checkboxes = browser.find_element(\"quantumWizTogglePapercheckboxInnerBox\")\n",
    "submitbutton = browser.find_elements(By.CLASS_NAME,\"uArJ5e UQuaGc Y5sE8d VkkpIf QvWxOd\")\n",
    "\n",
    "\n",
    "if textboxes:\n",
    "    # Send keys to the first textbox\n",
    "    print(textboxes[0].text)\n",
    "    textboxes[0].send_keys(\"Test\")\n",
    "else:\n",
    "    print(\"No textbox elements found\")\n",
    "    print(textboxes)"
   ]
  }
 ],
 "metadata": {
  "kernelspec": {
   "display_name": "Python 3.11.0 64-bit",
   "language": "python",
   "name": "python3"
  },
  "language_info": {
   "codemirror_mode": {
    "name": "ipython",
    "version": 3
   },
   "file_extension": ".py",
   "mimetype": "text/x-python",
   "name": "python",
   "nbconvert_exporter": "python",
   "pygments_lexer": "ipython3",
   "version": "3.11.0"
  },
  "orig_nbformat": 4,
  "vscode": {
   "interpreter": {
    "hash": "aee8b7b246df8f9039afb4144a1f6fd8d2ca17a180786b69acc140d282b71a49"
   }
  }
 },
 "nbformat": 4,
 "nbformat_minor": 2
}
