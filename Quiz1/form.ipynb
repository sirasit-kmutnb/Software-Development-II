{
 "cells": [
  {
   "cell_type": "code",
<<<<<<< HEAD
   "execution_count": null,
   "metadata": {},
   "outputs": [],
   "source": [
    "pip install selenium"
   ]
  },
  {
   "cell_type": "code",
   "execution_count": null,
   "metadata": {},
   "outputs": [],
=======
   "execution_count": 9,
   "metadata": {},
   "outputs": [
    {
     "name": "stderr",
     "output_type": "stream",
     "text": [
      "/var/folders/nx/r2305r0d0gqby37h6h_wn9p00000gn/T/ipykernel_22863/787695049.py:7: DeprecationWarning: executable_path has been deprecated, please pass in a Service object\n",
      "  browser = webdriver.Chrome(executable_path='/Volumes/SSDEx/chromedriver')\n"
     ]
    }
   ],
   "source": []
  },
  {
   "cell_type": "code",
   "execution_count": 5,
   "metadata": {},
   "outputs": [
    {
     "name": "stdout",
     "output_type": "stream",
     "text": [
      "No textbox elements found\n",
      "[]\n"
     ]
    }
   ],
>>>>>>> f62c6b4c17dc58d1dff6505151219b071ea3f4ca
   "source": [
    "from selenium import webdriver\n",
    "from selenium.webdriver.common.by import By\n",
    "from selenium.webdriver.chrome.service import Service as ChromeService\n",
    "#option.add_argument(\"--headless\")\n",
    "#option.add_argument(\"disable-gpu\")\n",
    "\n",
<<<<<<< HEAD
    "browser = webdriver.Chrome(executable_path='E:/Work/Coding/chromedriver.exe')\n",
    "\n",
=======
    "options = webdriver.ChromeOptions()\n",
    "options.add_experimental_option(\"detach\",True)\n",
    "service = ChromeService(executable_path=\"/path/to/chromedriver\")\n",
    "browser = webdriver.Chrome(service=service)\n",
>>>>>>> f62c6b4c17dc58d1dff6505151219b071ea3f4ca
    "browser.get(\"https://forms.gle/xphJfdQf4rJN8gvc8\")\n",
    "\n",
    "textboxes = browser.find_elements(By.XPATH,\n",
    "                                '//*[@id=\"mG61Hd\"]/div[2]/div/div[2]/div[2]/div/div/div[2]/div/div[1]/div/div[1]/input')\n",
    "# radiobuttons = browser.find_element(\"docssharedWizToggleLabeledLabelWrapper\")\n",
    "# checkboxes = browser.find_element(\"quantumWizTogglePapercheckboxInnerBox\")\n",
    "submitbutton = browser.find_elements(By.CLASS_NAME,\"uArJ5e UQuaGc Y5sE8d VkkpIf QvWxOd\")\n",
    "\n",
    "\n",
    "if textboxes:\n",
    "    # Send keys to the first textbox\n",
    "    textboxes[0].send_keys(\"Test\")\n",
    "else:\n",
    "    print(\"No textbox elements found\")\n",
    "    print(textboxes)"
   ]
  }
 ],
 "metadata": {
  "kernelspec": {
   "display_name": "Python 3",
   "language": "python",
   "name": "python3"
  },
  "language_info": {
   "codemirror_mode": {
    "name": "ipython",
    "version": 3
   },
   "file_extension": ".py",
   "mimetype": "text/x-python",
   "name": "python",
   "nbconvert_exporter": "python",
   "pygments_lexer": "ipython3",
   "version": "3.10.9"
  },
  "orig_nbformat": 4,
  "vscode": {
   "interpreter": {
    "hash": "cd153f557e0f61c9294d2f52e01319636137078114cd550e1f4d282aa52eb66d"
   }
  }
 },
 "nbformat": 4,
 "nbformat_minor": 2
}
