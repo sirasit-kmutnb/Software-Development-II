{
 "cells": [
  {
   "cell_type": "code",
   "execution_count": 16,
   "metadata": {},
   "outputs": [],
   "source": [
    "import sys\n",
    "import numpy as np\n",
    "sys.path.append('../')\n",
    "from TwitterKeeper.Twitter_keeper import PullTweetsData\n",
    "from sklearn.feature_extraction.text import CountVectorizer\n",
    "import pandas as pd\n",
    "from wordcloud import WordCloud\n",
    "import matplotlib.pyplot as plt\n",
    "\n",
    "class main(PullTweetsData):\n",
    "    def tokenize(self,d):  \n",
    "        result = d.split(\"/\")\n",
    "        result = list(filter(None, result))\n",
    "        return result\n",
    "\n",
    "    def prepared_Text(self,text_list):\n",
    "        new_text = []\n",
    "        for text in text_list:\n",
    "            new_text.append(self.preprocessText(text))\n",
    "        return new_text\n",
    "        \n",
    "    def MostWordFinder(self,keyword):\n",
    "        self.connectToDB(\"twitter\",\"tweets\")\n",
    "        vectorizer = CountVectorizer(tokenizer=self.tokenize)\n",
    "        transformed_data = vectorizer.fit_transform(self.prepared_Text(self.find_tweets(\"keyword\",keyword)))\n",
    "        keyword_df1 = pd.DataFrame(columns = ['word', 'count'])\n",
    "        keyword_df1['word'] = vectorizer.get_feature_names_out()\n",
    "        print(vectorizer.get_feature_names_out())\n",
    "        keyword_df1['count'] = np.ravel(transformed_data.sum(axis=0))   \n",
    "        result = keyword_df1.sort_values(by=['count'], ascending=False).head(10)\n",
    "        return result\n",
    "\n",
    "TweetsCounter = main()"
   ]
  },
  {
   "cell_type": "code",
   "execution_count": 19,
   "metadata": {},
   "outputs": [
    {
     "name": "stdout",
     "output_type": "stream",
     "text": [
      "['i', 'love', 'machine', 'learning']\n",
      "['machine', 'learning', 'is', 'fun']\n",
      "['i', 'am', 'learning', 'machine', 'learning']\n",
      "['i', 'am', 'a', 'machine', 'learning', 'engineer']\n",
      "['a' 'am' 'engineer' 'fun' 'i' 'is' 'learning' 'love' 'machine']\n",
      "[[0 0 0 0 1 0 1 1 1]\n",
      " [0 0 0 1 0 1 1 0 1]\n",
      " [0 1 0 0 1 0 2 0 1]\n",
      " [1 1 1 0 1 0 1 0 1]]\n",
      "[1 2 1 1 3 1 5 1 4]\n"
     ]
    },
    {
     "name": "stderr",
     "output_type": "stream",
     "text": [
      "C:\\Users\\nonth\\AppData\\Local\\Packages\\PythonSoftwareFoundation.Python.3.10_qbz5n2kfra8p0\\LocalCache\\local-packages\\Python310\\site-packages\\sklearn\\feature_extraction\\text.py:528: UserWarning: The parameter 'token_pattern' will not be used since 'tokenizer' is not None'\n",
      "  warnings.warn(\n"
     ]
    }
   ],
   "source": [
    "tweets = [\"I/love/machine/learning\", \"machine/learning/is/fun\", \"I/am/learning/machine/learning\", \"I/am/a/machine/learning/engineer\"]\n",
    "def tokenize(d):  \n",
    "        result = d.split(\"/\")\n",
    "        result = list(filter(None, result))\n",
    "        print(result)\n",
    "        return result\n",
    "\n",
    "vectorizer = CountVectorizer(tokenizer=tokenize)\n",
    "\n",
    "transformed_data = vectorizer.fit_transform(tweets)\n",
    "\n",
    "print(vectorizer.get_feature_names_out())\n",
    "\n",
    "X = transformed_data.toarray()\n",
    "\n",
    "print(X)\n",
    "\n",
    "print(np.ravel(transformed_data.sum(axis=0)))"
   ]
  },
  {
   "cell_type": "code",
   "execution_count": 18,
   "metadata": {},
   "outputs": [
    {
     "name": "stdout",
     "output_type": "stream",
     "text": [
      "['a' 'aauto' 'abix' ... '🇰🇷' '🇹🇭'\n",
      " '🇹🇭🇬🇧\\xa0\\xa0\\xa0\\xa0\\xa0\\xa0\\xa0\\xa0\\xa0']\n",
      "+--------+-------+\n",
      "|  word  | count |\n",
      "+--------+-------+\n",
      "|  dek   |  9021 |\n",
      "|  แจก   |  3456 |\n",
      "| alevel |  3254 |\n",
      "|   คน   |  2497 |\n",
      "|   ติด   |  2257 |\n",
      "|  tcas  |  2256 |\n",
      "|  สอบ   |  1942 |\n",
      "|   รี    |  1855 |\n",
      "| คะแนน  |  1793 |\n",
      "|  tgat  |  1600 |\n",
      "+--------+-------+\n"
     ]
    }
   ],
   "source": [
    "from prettytable import PrettyTable\n",
    "\n",
    "x = PrettyTable()\n",
    "result = TweetsCounter.MostWordFinder(\"#dek66\")\n",
    "x.field_names = list(result.columns)\n",
    "\n",
    "for row in result.itertuples():\n",
    "    x.add_row(row[1:])\n",
    "\n",
    "print(x)"
   ]
  },
  {
   "cell_type": "code",
   "execution_count": 11,
   "metadata": {},
   "outputs": [],
   "source": [
    "%matplotlib tk"
   ]
  },
  {
   "cell_type": "code",
   "execution_count": 12,
   "metadata": {},
   "outputs": [],
   "source": [
    "word_dict = {}\n",
    "for i in range(0,len(result)):\n",
    "  word_dict[result.word[i]]= result['count'][i]\n",
    "wordcloud = WordCloud(width=1280,height=720,font_path='./THSarabun.ttf',background_color ='white',max_words=70).fit_words(word_dict)\n",
    "fig, ax = plt.subplots(1, 1, figsize=(16,9))\n",
    "ax.imshow(wordcloud, interpolation='bilinear')\n",
    "ax.axis(\"off\")\n",
    "fig.show()\n"
   ]
  }
 ],
 "metadata": {
  "kernelspec": {
   "display_name": "Python 3",
   "language": "python",
   "name": "python3"
  },
  "language_info": {
   "codemirror_mode": {
    "name": "ipython",
    "version": 3
   },
   "file_extension": ".py",
   "mimetype": "text/x-python",
   "name": "python",
   "nbconvert_exporter": "python",
   "pygments_lexer": "ipython3",
   "version": "3.10.9 (tags/v3.10.9:1dd9be6, Dec  6 2022, 20:01:21) [MSC v.1934 64 bit (AMD64)]"
  },
  "orig_nbformat": 4,
  "vscode": {
   "interpreter": {
    "hash": "cd153f557e0f61c9294d2f52e01319636137078114cd550e1f4d282aa52eb66d"
   }
  }
 },
 "nbformat": 4,
 "nbformat_minor": 2
}
