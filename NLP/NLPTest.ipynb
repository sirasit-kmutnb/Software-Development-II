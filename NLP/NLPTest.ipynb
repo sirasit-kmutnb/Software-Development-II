{
 "cells": [
  {
   "cell_type": "code",
   "execution_count": 1,
   "metadata": {},
   "outputs": [
    {
     "name": "stdout",
     "output_type": "stream",
     "text": [
      "author ==  DneeSD\n",
      "create_at ==  2023-02-13 10:41:39+07:00\n",
      "keyword ==  #Onet66\n",
      "hashtag ==  #Onet66\n",
      "location ==  Bangkok, Thailand\n",
      "text ==  กุมิไหวกับมึงระอีเอี้ยเอ้ยยยย #Onet66 https://t.co/h10RpV6vrO\n",
      "======================\n",
      "author ==  DneeSD\n",
      "create_at ==  2023-02-13 10:41:31+07:00\n",
      "keyword ==  #Onet66\n",
      "hashtag ==  #Onet66\n",
      "location ==  Bangkok, Thailand\n",
      "text ==  Me be like:ตอนรู้ว่า​ eyebrows ไม่ใช่\"​คิ้ว​\" แต่คือ​ \"ตาสีน้ำตาล\" 👁️👄👁️ #Onet66 https://t.co/JzFHugbYvW\n",
      "======================\n",
      "author ==  brightnesstutor\n",
      "create_at ==  2023-02-13 10:20:06+07:00\n",
      "keyword ==  #Onet66\n",
      "hashtag ==  #หาติวเตอร์#dek66#dek67#รับสอนพิเศษ#หาคนสอน#สอนพิเศษ#รับสอนคณิต#เรียนพิเศษ#TCAS66#rwbfact#sjtfact#SJBfact#acspfac#Onet66#กสพท\n",
      "location ==  Bang Na, Bangkok\n",
      "text ==  รับสอนพิเศษฟิสิกส์/คณิต/เคมี/ชีวะ นะคะ\n",
      "📍เลือกวัน เวลา และสถานที่ แอดไลน์ได้เลย https://t.co/ouOQORzTJm #หาติวเตอร์ #dek66 #dek67 #รับสอนพิเศษ #หาคนสอน #สอนพิเศษ #รับสอนคณิต #เรียนพิเศษ #TCAS66 #rwbfact #sjtfact #SJBfact #acspfac #Onet66 #กสพท https://t.co/prFPePiPbP\n",
      "======================\n",
      "author ==  BearguinTrend\n",
      "create_at ==  2023-02-13 09:15:57+07:00\n",
      "keyword ==  #Onet66\n",
      "hashtag ==  #Onet66\n",
      "location ==  Bangkok\n",
      "text ==  2023-02-13 09:15:37\n",
      "6. KhunEn Beside Nanon\n",
      "7. #Onet66\n",
      "8. Morning PATRICK\n",
      "9. 13 Morning Dunk\n",
      "10. CHARLOTTE BE MY LOVE13\n",
      "\n",
      "📢 Reply Hashtag to this tweet for more detail data\n",
      "💙Tweet detail will show at 10:00:00\n",
      "======================\n",
      "author ==  BearguinTrend\n",
      "create_at ==  2023-02-13 08:45:23+07:00\n",
      "keyword ==  #Onet66\n",
      "hashtag ==  #Onet66\n",
      "location ==  Bangkok\n",
      "text ==  2023-02-13 08:45:03\n",
      "6. KhunEn Beside Nanon\n",
      "7. #Onet66\n",
      "8. Morning PATRICK\n",
      "9. 702 Have\n",
      "10. 13 Morning Dunk\n",
      "======================\n"
     ]
    },
    {
     "ename": "ModuleNotFoundError",
     "evalue": "No module named 'wordcloud'",
     "output_type": "error",
     "traceback": [
      "\u001b[0;31m---------------------------------------------------------------------------\u001b[0m",
      "\u001b[0;31mModuleNotFoundError\u001b[0m                       Traceback (most recent call last)",
      "Cell \u001b[0;32mIn[1], line 7\u001b[0m\n\u001b[1;32m      5\u001b[0m \u001b[39mfrom\u001b[39;00m \u001b[39msklearn\u001b[39;00m\u001b[39m.\u001b[39;00m\u001b[39mfeature_extraction\u001b[39;00m\u001b[39m.\u001b[39;00m\u001b[39mtext\u001b[39;00m \u001b[39mimport\u001b[39;00m CountVectorizer\n\u001b[1;32m      6\u001b[0m \u001b[39mimport\u001b[39;00m \u001b[39mpandas\u001b[39;00m \u001b[39mas\u001b[39;00m \u001b[39mpd\u001b[39;00m\n\u001b[0;32m----> 7\u001b[0m \u001b[39mfrom\u001b[39;00m \u001b[39mwordcloud\u001b[39;00m \u001b[39mimport\u001b[39;00m WordCloud\n\u001b[1;32m      8\u001b[0m \u001b[39mimport\u001b[39;00m \u001b[39mmatplotlib\u001b[39;00m\u001b[39m.\u001b[39;00m\u001b[39mpyplot\u001b[39;00m \u001b[39mas\u001b[39;00m \u001b[39mplt\u001b[39;00m\n\u001b[1;32m     10\u001b[0m \u001b[39mclass\u001b[39;00m \u001b[39mmain\u001b[39;00m(PullTweetsData):\n",
      "\u001b[0;31mModuleNotFoundError\u001b[0m: No module named 'wordcloud'"
     ]
    }
   ],
   "source": [
    "import sys\n",
    "import numpy as np\n",
    "sys.path.append('../')\n",
    "from TwitterKeeper.Twitter_keeper import PullTweetsData\n",
    "from sklearn.feature_extraction.text import CountVectorizer\n",
    "import pandas as pd\n",
    "from wordcloud import WordCloud\n",
    "import matplotlib.pyplot as plt\n",
    "\n",
    "class main(PullTweetsData):\n",
    "    def tokenize(self,d):  \n",
    "        result = d.split(\"/\")\n",
    "        result = list(filter(None, result))\n",
    "        return result\n",
    "\n",
    "    def prepared_Text(self,text_list):\n",
    "        new_text = []\n",
    "        for text in text_list:\n",
    "            new_text.append(self.preprocessText(text))\n",
    "        return new_text\n",
    "        \n",
    "    def MostWordFinder(self,keyword):\n",
    "        self.connectToDB(\"twitter\",\"tweets\")\n",
    "        vectorizer = CountVectorizer(tokenizer=self.tokenize)\n",
    "        transformed_data = vectorizer.fit_transform(self.prepared_Text(self.find_tweets(\"keyword\",keyword,\"return\")))\n",
    "        keyword_df1 = pd.DataFrame(columns = ['word', 'count'])\n",
    "        keyword_df1['word'] = vectorizer.get_feature_names_out()\n",
    "        print(vectorizer.get_feature_names_out())\n",
    "        keyword_df1['count'] = np.ravel(transformed_data.sum(axis=0))   \n",
    "        keyword_df1.sort_values(by=['count'], ascending=False).head(10)\n",
    "        return keyword_df1\n",
    "\n",
    "TweetsCounter = main()"
   ]
  },
  {
   "cell_type": "code",
   "execution_count": null,
   "metadata": {},
   "outputs": [],
   "source": [
    "text = \"เค้ามาบนค่ะ ครั้งที่แล้วไม่ได้แจกเพราะว่าคะแนนไม่ถึงเลย แต่ถ้าได้เอเวลตามนี้แจกแน่ๆ ขอให้ทุกคนอวยพรให้สอบได้เท่านี้ จะได้เอาแจกนะคะ😭😭😭\"\n",
    "TweetsCounter.preprocessText(text)"
   ]
  },
  {
   "cell_type": "code",
   "execution_count": null,
   "metadata": {},
   "outputs": [],
   "source": [
    "tweets = [\"I/love/machine/learning\", \"machine/learning/is/fun\", \"I/am/learning/machine/learning\", \"I/am/a/machine/learning/engineer\"]\n",
    "def tokenize(d):  \n",
    "        result = d.split(\"/\")\n",
    "        result = list(filter(None, result))\n",
    "        print(result)\n",
    "        return result\n",
    "\n",
    "vectorizer = CountVectorizer(tokenizer=tokenize)\n",
    "\n",
    "transformed_data = vectorizer.fit_transform(tweets)\n",
    "\n",
    "print(vectorizer.get_feature_names_out())\n",
    "\n",
    "X = transformed_data.toarray()\n",
    "\n",
    "print(X)\n",
    "\n",
    "print(np.ravel(transformed_data.sum(axis=0)))"
   ]
  },
  {
   "cell_type": "code",
   "execution_count": null,
   "metadata": {},
   "outputs": [],
   "source": [
    "from prettytable import PrettyTable\n",
    "\n",
    "x = PrettyTable()\n",
    "result = TweetsCounter.MostWordFinder(\"#ใส่นัวแฟมิลี่\")\n",
    "x.field_names = list(result.columns)\n",
    "\n",
    "for row in result.itertuples():\n",
    "    x.add_row(row[1:])\n",
    "x._sortby = \"count\"\n",
    "print(x)\n",
    "# print(result.to_dict())"
   ]
  },
  {
   "cell_type": "code",
   "execution_count": null,
   "metadata": {},
   "outputs": [],
   "source": [
    "%matplotlib tk"
   ]
  },
  {
   "cell_type": "code",
   "execution_count": null,
   "metadata": {},
   "outputs": [],
   "source": [
    "word_dict = {}\n",
    "for i in range(0,len(result)):\n",
    "  word_dict[result.word[i]]= result['count'][i]\n",
    "  print(result.word[i],result['count'][i])\n",
    "wordcloud = WordCloud(width=1280,height=720,font_path='./SukhumvitSet-Medium.ttf',mode=\"RGBA\",background_color =\"rgba(255, 255, 255, 0)\",max_words=70).fit_words(word_dict)\n",
    "fig, ax = plt.subplots(1, 1, figsize=(16,9))\n",
    "ax.imshow(wordcloud, interpolation='bilinear')\n",
    "ax.axis(\"off\")\n",
    "fig.show()\n",
    "# wordcloud.to_file(filename=\"wordcloud.png\")\n"
   ]
  }
 ],
 "metadata": {
  "kernelspec": {
   "display_name": "Python 3",
   "language": "python",
   "name": "python3"
  },
  "language_info": {
   "codemirror_mode": {
    "name": "ipython",
    "version": 3
   },
   "file_extension": ".py",
   "mimetype": "text/x-python",
   "name": "python",
   "nbconvert_exporter": "python",
   "pygments_lexer": "ipython3",
   "version": "3.11.0"
  },
  "orig_nbformat": 4,
  "vscode": {
   "interpreter": {
    "hash": "aee8b7b246df8f9039afb4144a1f6fd8d2ca17a180786b69acc140d282b71a49"
   }
  }
 },
 "nbformat": 4,
 "nbformat_minor": 2
}
