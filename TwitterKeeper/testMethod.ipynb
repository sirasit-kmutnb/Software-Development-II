{
 "cells": [
  {
   "cell_type": "code",
   "execution_count": 1,
   "metadata": {},
   "outputs": [
    {
     "name": "stdout",
     "output_type": "stream",
     "text": [
      "Hello/World\n",
      "Hello/World\n",
      "p/Hello/World\n",
      "แบด/ลูกสาว/ชอบ/ถึงขนาด/ซอง/์/เค้า/นั่ง/กิน/รอ/พี่/paper/planes/รู้/อีกหน่อย/เค้า/ลืม/เค้า/ความสุข/แต่ละคน/เหมือนกัน/ศิลปิน/แรงบันดาลใจ/ลูก/กลายเป็น/เด็กดี/คนดี/แม่/ขอบคุณ/เค้า\n"
     ]
    }
   ],
   "source": [
    "from Twitter_keeper import PullTweetsData\n",
    "\n",
    "puller = PullTweetsData()\n",
    "\n",
    "test_cases = [\n",
    "            (\"Hello! World🌍 https://www.example.com\", \"Hello/World\"),\n",
    "            (\"Hello 😀 World 🚀🚀https://www.example.com\", \"Hello/World\"),\n",
    "            (\"p https://www.example.com Hello World\", \"Hello/World\"),\n",
    "            (\"#ทรงอย่างแบด ลูกสาวชอบมากถึงขนาดให้เก็บซองเลย์ที่เค้านั่งกินระหว่างรอพี่ๆpaper planesมา ไม่รู้ว่าอีกหน่อยเค้าจะลืมมั้ย แต่ก็ทำให้ตามที่เค้าขอ เพราะความสุขของแต่ละคนไม่เหมือนกัน ถ้าศิลปินคือแรงบันดาลใจให้ลูกเรากลายเป็นเด็กดีคนดี แม่อย่างเราก็ต้องขอบคุณเค้ามากๆนะ https://t.co/oWconpN1iP\", \"Hello/World\"),\n",
    "        ]\n",
    "for text, expected_output in test_cases:\n",
    "    print(puller.preprocessText(text))"
   ]
  },
  {
   "cell_type": "code",
   "execution_count": 3,
   "metadata": {},
   "outputs": [
    {
     "ename": "AttributeError",
     "evalue": "Mock object has no attribute 'update_one'",
     "output_type": "error",
     "traceback": [
      "\u001b[1;31m---------------------------------------------------------------------------\u001b[0m",
      "\u001b[1;31mAttributeError\u001b[0m                            Traceback (most recent call last)",
      "\u001b[1;32me:\\Work\\Coding\\GitHub\\Software-Development-II\\TwitterKeeper\\testMethod.ipynb Cell 2\u001b[0m in \u001b[0;36m<cell line: 26>\u001b[1;34m()\u001b[0m\n\u001b[0;32m     <a href='vscode-notebook-cell:/e%3A/Work/Coding/GitHub/Software-Development-II/TwitterKeeper/testMethod.ipynb#W1sZmlsZQ%3D%3D?line=18'>19</a>\u001b[0m fake_tweet \u001b[39m=\u001b[39m {\n\u001b[0;32m     <a href='vscode-notebook-cell:/e%3A/Work/Coding/GitHub/Software-Development-II/TwitterKeeper/testMethod.ipynb#W1sZmlsZQ%3D%3D?line=19'>20</a>\u001b[0m             \u001b[39m\"\u001b[39m\u001b[39mtweet_create_at\u001b[39m\u001b[39m\"\u001b[39m: \u001b[39m\"\u001b[39m\u001b[39m2022-01-01\u001b[39m\u001b[39m\"\u001b[39m,\n\u001b[0;32m     <a href='vscode-notebook-cell:/e%3A/Work/Coding/GitHub/Software-Development-II/TwitterKeeper/testMethod.ipynb#W1sZmlsZQ%3D%3D?line=20'>21</a>\u001b[0m             \u001b[39m\"\u001b[39m\u001b[39mtweet_author\u001b[39m\u001b[39m\"\u001b[39m: \u001b[39m\"\u001b[39m\u001b[39mtest1\u001b[39m\u001b[39m\"\u001b[39m,\n\u001b[0;32m     <a href='vscode-notebook-cell:/e%3A/Work/Coding/GitHub/Software-Development-II/TwitterKeeper/testMethod.ipynb#W1sZmlsZQ%3D%3D?line=21'>22</a>\u001b[0m             \u001b[39m\"\u001b[39m\u001b[39mtweet_content\u001b[39m\u001b[39m\"\u001b[39m: \u001b[39m\"\u001b[39m\u001b[39mThis is from test1\u001b[39m\u001b[39m\"\u001b[39m\n\u001b[0;32m     <a href='vscode-notebook-cell:/e%3A/Work/Coding/GitHub/Software-Development-II/TwitterKeeper/testMethod.ipynb#W1sZmlsZQ%3D%3D?line=22'>23</a>\u001b[0m         }\n\u001b[0;32m     <a href='vscode-notebook-cell:/e%3A/Work/Coding/GitHub/Software-Development-II/TwitterKeeper/testMethod.ipynb#W1sZmlsZQ%3D%3D?line=24'>25</a>\u001b[0m \u001b[39m# test the saveTweetsDict method\u001b[39;00m\n\u001b[1;32m---> <a href='vscode-notebook-cell:/e%3A/Work/Coding/GitHub/Software-Development-II/TwitterKeeper/testMethod.ipynb#W1sZmlsZQ%3D%3D?line=25'>26</a>\u001b[0m data_class\u001b[39m.\u001b[39;49msaveTweetsDict(fake_tweet)\n\u001b[0;32m     <a href='vscode-notebook-cell:/e%3A/Work/Coding/GitHub/Software-Development-II/TwitterKeeper/testMethod.ipynb#W1sZmlsZQ%3D%3D?line=27'>28</a>\u001b[0m \u001b[39m# assert that the update_one method was called once\u001b[39;00m\n\u001b[0;32m     <a href='vscode-notebook-cell:/e%3A/Work/Coding/GitHub/Software-Development-II/TwitterKeeper/testMethod.ipynb#W1sZmlsZQ%3D%3D?line=28'>29</a>\u001b[0m \u001b[39massert\u001b[39;00m fake_db\u001b[39m.\u001b[39mupdate_one\u001b[39m.\u001b[39mcall_count \u001b[39m==\u001b[39m \u001b[39m1\u001b[39m\n",
      "File \u001b[1;32me:\\Work\\Coding\\GitHub\\Software-Development-II\\TwitterKeeper\\Twitter_keeper.py:181\u001b[0m, in \u001b[0;36mPullTweetsData.saveTweetsDict\u001b[1;34m(self, tweet_post)\u001b[0m\n\u001b[0;32m    180\u001b[0m \u001b[39mdef\u001b[39;00m \u001b[39msaveTweetsDict\u001b[39m(\u001b[39mself\u001b[39m, tweet_post):\n\u001b[1;32m--> 181\u001b[0m     \u001b[39mself\u001b[39;49m\u001b[39m.\u001b[39;49m__db\u001b[39m.\u001b[39;49mupdate_one({\u001b[39m\"\u001b[39m\u001b[39mtweet_create_at\u001b[39m\u001b[39m\"\u001b[39m: tweet_post[\u001b[39m\"\u001b[39m\u001b[39mtweet_create_at\u001b[39m\u001b[39m\"\u001b[39m], \u001b[39m\"\u001b[39m\u001b[39mtweet_author\u001b[39m\u001b[39m\"\u001b[39m: tweet_post[\u001b[39m\"\u001b[39m\u001b[39mtweet_author\u001b[39m\u001b[39m\"\u001b[39m]},\n\u001b[0;32m    182\u001b[0m                          {\u001b[39m\"\u001b[39m\u001b[39m$set\u001b[39m\u001b[39m\"\u001b[39m: tweet_post}, upsert\u001b[39m=\u001b[39m\u001b[39mTrue\u001b[39;00m)\n",
      "File \u001b[1;32mC:\\Program Files\\WindowsApps\\PythonSoftwareFoundation.Python.3.10_3.10.2544.0_x64__qbz5n2kfra8p0\\lib\\unittest\\mock.py:643\u001b[0m, in \u001b[0;36mNonCallableMock.__getattr__\u001b[1;34m(self, name)\u001b[0m\n\u001b[0;32m    641\u001b[0m \u001b[39melif\u001b[39;00m \u001b[39mself\u001b[39m\u001b[39m.\u001b[39m_mock_methods \u001b[39mis\u001b[39;00m \u001b[39mnot\u001b[39;00m \u001b[39mNone\u001b[39;00m:\n\u001b[0;32m    642\u001b[0m     \u001b[39mif\u001b[39;00m name \u001b[39mnot\u001b[39;00m \u001b[39min\u001b[39;00m \u001b[39mself\u001b[39m\u001b[39m.\u001b[39m_mock_methods \u001b[39mor\u001b[39;00m name \u001b[39min\u001b[39;00m _all_magics:\n\u001b[1;32m--> 643\u001b[0m         \u001b[39mraise\u001b[39;00m \u001b[39mAttributeError\u001b[39;00m(\u001b[39m\"\u001b[39m\u001b[39mMock object has no attribute \u001b[39m\u001b[39m%r\u001b[39;00m\u001b[39m\"\u001b[39m \u001b[39m%\u001b[39m name)\n\u001b[0;32m    644\u001b[0m \u001b[39melif\u001b[39;00m _is_magic(name):\n\u001b[0;32m    645\u001b[0m     \u001b[39mraise\u001b[39;00m \u001b[39mAttributeError\u001b[39;00m(name)\n",
      "\u001b[1;31mAttributeError\u001b[0m: Mock object has no attribute 'update_one'"
     ]
    }
   ],
   "source": [
    "from Twitter_keeper import PullTweetsData\n",
    "from unittest.mock import MagicMock\n",
    "import pymongo\n",
    "# create a fake MongoClient\n",
    "fake_client = MagicMock(spec=pymongo.MongoClient)\n",
    "\n",
    "# create a fake database\n",
    "fake_db = MagicMock()\n",
    "fake_collection = MagicMock()\n",
    "# set the side effect for the fake MongoClient\n",
    "fake_client.__getitem__.side_effect = lambda x: fake_db\n",
    "fake_db.__getitem__.return_value = fake_collection\n",
    "# use the fake MongoClient in your code\n",
    "data_class = PullTweetsData()\n",
    "data_class.connectToDB(\"test_database\", \"test_collection\")\n",
    "data_class._PullTweetsData__db = fake_client\n",
    "\n",
    "# generate fake tweet data using fake-factory\n",
    "fake_tweet = {\n",
    "            \"tweet_create_at\": \"2022-01-01\",\n",
    "            \"tweet_author\": \"test1\",\n",
    "            \"tweet_content\": \"This is from test1\"\n",
    "        }\n",
    "\n",
    "# test the saveTweetsDict method\n",
    "data_class.saveTweetsDict(fake_tweet)\n",
    "\n",
    "# assert that the update_one method was called once\n",
    "assert fake_db.update_one.call_count == 1\n",
    "\n",
    "# assert that the update_one method was called with the expected arguments\n",
    "assert fake_db.update_one.call_args[0] == ({\"tweet_create_at\": fake_tweet[\"tweet_create_at\"], \"tweet_author\": fake_tweet[\"tweet_author\"]},)\n",
    "assert fake_db.update_one.call_args[1][\"$set\"] == fake_tweet\n",
    "assert fake_db.update_one.call_args[1][\"upsert\"] is True"
   ]
  },
  {
   "cell_type": "code",
   "execution_count": 4,
   "metadata": {},
   "outputs": [
    {
     "name": "stdout",
     "output_type": "stream",
     "text": [
      "Collecting mongomock\n",
      "  Downloading mongomock-4.1.2-py2.py3-none-any.whl (60 kB)\n",
      "     ---------------------------------------- 60.0/60.0 kB 1.6 MB/s eta 0:00:00\n",
      "Requirement already satisfied: packaging in c:\\users\\nonth\\appdata\\local\\packages\\pythonsoftwarefoundation.python.3.10_qbz5n2kfra8p0\\localcache\\local-packages\\python310\\site-packages (from mongomock) (21.3)\n",
      "Collecting sentinels\n",
      "  Downloading sentinels-1.0.0.tar.gz (4.1 kB)\n",
      "  Preparing metadata (setup.py): started\n",
      "  Preparing metadata (setup.py): finished with status 'done'\n",
      "Requirement already satisfied: pyparsing!=3.0.5,>=2.0.2 in c:\\users\\nonth\\appdata\\local\\packages\\pythonsoftwarefoundation.python.3.10_qbz5n2kfra8p0\\localcache\\local-packages\\python310\\site-packages (from packaging->mongomock) (3.0.8)\n",
      "Installing collected packages: sentinels, mongomock\n",
      "  Running setup.py install for sentinels: started\n",
      "  Running setup.py install for sentinels: finished with status 'done'\n",
      "Successfully installed mongomock-4.1.2 sentinels-1.0.0\n",
      "Note: you may need to restart the kernel to use updated packages.\n"
     ]
    },
    {
     "name": "stderr",
     "output_type": "stream",
     "text": [
      "  DEPRECATION: sentinels is being installed using the legacy 'setup.py install' method, because it does not have a 'pyproject.toml' and the 'wheel' package is not installed. pip 23.1 will enforce this behaviour change. A possible replacement is to enable the '--use-pep517' option. Discussion can be found at https://github.com/pypa/pip/issues/8559\n"
     ]
    }
   ],
   "source": [
    "pip install mongomock"
   ]
  },
  {
   "cell_type": "code",
   "execution_count": 20,
   "metadata": {},
   "outputs": [
    {
     "name": "stdout",
     "output_type": "stream",
     "text": [
      "<mongomock.collection.Cursor object at 0x0000013227579630>\n"
     ]
    }
   ],
   "source": [
    "import unittest\n",
    "from unittest.mock import MagicMock\n",
    "import pymongo\n",
    "from mongomock import MongoClient\n",
    "\n",
    "from Twitter_keeper import PullTweetsData\n",
    "\n",
    "Puller = PullTweetsData()\n",
    "mock_cli = MongoClient()\n",
    "mock_db = mock_cli['test_db']['test_col']\n",
    "Puller._PullTweetsData__db = mock_db\n",
    "\n",
    "tweet_post1 = {\"tweet_create_at\": \"2022-01-01 12:00:00\",\n",
    "                \"tweet_author\": \"test_author1\",\n",
    "                \"tweet_text\": \"test tweet1\"}\n",
    "\n",
    "tweet_post2 = {\"tweet_create_at\": \"2022-01-01 12:00:01\",\n",
    "                      \"tweet_author\": \"test_author1\",\n",
    "                      \"tweet_text\": \"test tweet2\"}\n",
    "\n",
    "Puller.saveTweetsDict(tweet_post=tweet_post1)\n",
    "Puller.saveTweetsDict(tweet_post=tweet_post1)\n",
    "Puller.saveTweetsDict(tweet_post=tweet_post2)\n",
    "\n",
    "saved_tw = mock_db.find({\n",
    "                \"tweet_author\": \"test_author1\"})\n",
    "print((saved_tw))\n",
    "\n",
    "\n"
   ]
  }
 ],
 "metadata": {
  "kernelspec": {
   "display_name": "Python 3",
   "language": "python",
   "name": "python3"
  },
  "language_info": {
   "codemirror_mode": {
    "name": "ipython",
    "version": 3
   },
   "file_extension": ".py",
   "mimetype": "text/x-python",
   "name": "python",
   "nbconvert_exporter": "python",
   "pygments_lexer": "ipython3",
   "version": "3.10.9"
  },
  "orig_nbformat": 4,
  "vscode": {
   "interpreter": {
    "hash": "cd153f557e0f61c9294d2f52e01319636137078114cd550e1f4d282aa52eb66d"
   }
  }
 },
 "nbformat": 4,
 "nbformat_minor": 2
}
