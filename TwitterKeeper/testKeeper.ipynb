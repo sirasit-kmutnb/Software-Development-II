{
 "cells": [
  {
   "cell_type": "code",
   "execution_count": 2,
   "metadata": {},
   "outputs": [
    {
     "ename": "AttributeError",
     "evalue": "'API' object has no attribute 'trends_closest'",
     "output_type": "error",
     "traceback": [
      "\u001b[0;31m---------------------------------------------------------------------------\u001b[0m",
      "\u001b[0;31mAttributeError\u001b[0m                            Traceback (most recent call last)",
      "Cell \u001b[0;32mIn[2], line 17\u001b[0m\n\u001b[1;32m     14\u001b[0m api \u001b[39m=\u001b[39m tweepy\u001b[39m.\u001b[39mAPI(auth)\n\u001b[1;32m     16\u001b[0m \u001b[39m# Get the WOEID (Where On Earth ID) for a specific location\u001b[39;00m\n\u001b[0;32m---> 17\u001b[0m location \u001b[39m=\u001b[39m api\u001b[39m.\u001b[39;49mtrends_closest(lat\u001b[39m=\u001b[39m\u001b[39m37.7749\u001b[39m, long\u001b[39m=\u001b[39m\u001b[39m-\u001b[39m\u001b[39m122.4194\u001b[39m)\n\u001b[1;32m     18\u001b[0m woeid \u001b[39m=\u001b[39m location[\u001b[39m0\u001b[39m][\u001b[39m'\u001b[39m\u001b[39mwoeid\u001b[39m\u001b[39m'\u001b[39m]\n\u001b[1;32m     20\u001b[0m \u001b[39m# Get the current search trends for the specified location\u001b[39;00m\n",
      "\u001b[0;31mAttributeError\u001b[0m: 'API' object has no attribute 'trends_closest'"
     ]
    }
   ],
   "source": [
    "import tweepy\n",
    "from dotenv import load_dotenv\n",
    "import os\n",
    "\n",
    "# Authenticate to Twitter\n",
    "api_key = os.getenv('API_KEY')\n",
    "api_key_secret = os.getenv('API_KEY_SECRET')\n",
    "access_token = os.getenv('ACCESS_TOKEN')\n",
    "access_token_secret = os.getenv('ACCESS_TOKEN_SECRET')\n",
    "\n",
    "def get_api(**kwargs):\n",
    "    auth = tweepy.OAuthHandler(kwargs[\"api_key\"], kwargs[\"api_key_secret\"])\n",
    "    auth.set_access_token(\n",
    "        kwargs[\"access_token\"],\n",
    "        kwargs[\"access_token_secret\"]\n",
    "        )\n",
    "    return tweepy.API(auth)\n"
   ]
  },
  {
   "cell_type": "code",
   "execution_count": null,
   "metadata": {},
   "outputs": [],
   "source": []
  }
 ],
 "metadata": {
  "kernelspec": {
   "display_name": "Python 3",
   "language": "python",
   "name": "python3"
  },
  "language_info": {
   "codemirror_mode": {
    "name": "ipython",
    "version": 3
   },
   "file_extension": ".py",
   "mimetype": "text/x-python",
   "name": "python",
   "nbconvert_exporter": "python",
   "pygments_lexer": "ipython3",
   "version": "3.11.2"
  },
  "orig_nbformat": 4,
  "vscode": {
   "interpreter": {
    "hash": "aee8b7b246df8f9039afb4144a1f6fd8d2ca17a180786b69acc140d282b71a49"
   }
  }
 },
 "nbformat": 4,
 "nbformat_minor": 2
}
