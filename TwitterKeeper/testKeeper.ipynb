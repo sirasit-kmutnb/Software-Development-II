{
 "cells": [
  {
   "cell_type": "code",
   "execution_count": 1,
   "metadata": {},
   "outputs": [
    {
     "data": {
      "text/plain": [
       "[{'_id': ObjectId('63e8c268904b045f69e18d56'),\n",
       "  'tweet_author': 'Tinkindeed',\n",
       "  'tweet_create_at': datetime.datetime(2023, 2, 12, 10, 12, 51),\n",
       "  'hashtag': '',\n",
       "  'keyword': '#ใส่นัวแฟมิลี่',\n",
       "  'text': 'เอาไปวิจัยได้ไหมว่าทำไมคนไทยถึงคาดหวังการขับเคลื่อนสังคมจากพี่เอกนัก\\u200b ทั้งๆที่แกก็ชัดเจนนะว่าแกมาเล่นเกม\\u200b ในทางกลับกันคนที่มีชื่อเสียง\\u200b ดังกว่าแกพับลิคกว่า\\u200bแกมากมายที่ติ่งแฮรี่\\u200bติ่งแบบตะโกนกลับไม่เคยโดนทัวลงแบบที่แกโดน\\u200bหรือว่าแกเลือดกรุปบี\\u200bเหรอ\\u200b งง\\n#HRK #ใส่นัวแฟมิลี่',\n",
       "  'tweet_location': 'Bangkok Thailand'},\n",
       " {'_id': ObjectId('63e8ebcf904b045f69e1c195'),\n",
       "  'tweet_author': 'leadtutorth',\n",
       "  'tweet_create_at': datetime.datetime(2023, 2, 12, 10, 33),\n",
       "  'hashtag': '#ติวสอบ#ไอเอล#IELTS#หาติวเตอร์#dek66#dek65#TCAS66#TCAS65#โทอิค#แกท#TGAT#TPAT#ติวเตอร์#สอนพิเศษ',\n",
       "  'keyword': '#dek66',\n",
       "  'text': 'รับสอนพิเศษทุกวิชา\\nตั้งแต่ประถม-วัยทำงาน\\nมีชีทให้ทุกวิชา ติวเตอร์จากมหาลัยชั้นนำ\\nเลือกติวเตอร์ได้นะคะ\\nเรียนเดี่ยว คู่ กลุ่ม \\nวางแผนเป็นรายบุคคล ปรึกษาฟรี\\nLine: @764jwxdc\\n#ติวสอบ #ไอเอล #IELTS #หาติวเตอร์ #dek66 #dek65 #TCAS66 #TCAS65 #โทอิค #แกท #TGAT  #TPAT #ติวเตอร์ #สอนพิเศษ https://t.co/R8PLjlEE8P',\n",
       "  'tweet_location': 'Bangkok, Thailand'},\n",
       " {'_id': ObjectId('63e8ebd2904b045f69e1c27a'),\n",
       "  'tweet_author': 'OpenDurian',\n",
       "  'tweet_create_at': datetime.datetime(2023, 2, 12, 10, 17),\n",
       "  'hashtag': '#DEK66#ALEVEL#TCAS66#TCAS67#กสพท66#เด็กซิ่ว66',\n",
       "  'keyword': '#dek66',\n",
       "  'text': 'ใครยังไม่เริ่มอ่าน A-Level อังกฤษ ให้เริ่มจาก Short Conversation, Long Conversation, Ad, Visual, เรียงประโยค ทั้งหมดนี้นับเป็น 46% ของข้อสอบ เป็นบทง่าย เก็บได้! สนใจหนังสือ A-Level อังกฤษใหม่ล่าสุด กด https://t.co/bgCu6gMKlh\\n\\n#DEK66 #ALEVEL\\n#TCAS66 #TCAS67\\n#กสพท66 #เด็กซิ่ว66',\n",
       "  'tweet_location': 'Bangkok'},\n",
       " {'_id': ObjectId('63e8ebd2904b045f69e1c30f'),\n",
       "  'tweet_author': 'TonthanaponTK',\n",
       "  'tweet_create_at': datetime.datetime(2023, 2, 12, 10, 14, 8),\n",
       "  'hashtag': '#dek65#TCAS65#tcas66#TGATTPAT#GATPAT66#กสพท66#พี่ต้นติวeng#TGAT#netsat#dek67#กสพท#ติวged#TCAS66#สอบเทียบGED#ติวielts#วันนี้dek66ทําอะไร#ทีมมธ#dek66#TGATTPAT',\n",
       "  'keyword': '#dek66',\n",
       "  'text': 'มาแล้วลูกจ๋าาาา 🇬🇧🇬🇧🇬🇧 น้องๆคนไหนจะสอบ A-LEVEL ต้องรีด่วน \\n\\n#dek65 #TCAS65 #tcas66 #TGATTPAT #GATPAT66 #กสพท66 #พี่ต้นติวeng #TGAT #netsat #dek67 #กสพท #ติวged #TCAS66 #สอบเทียบGED #ติวielts #วันนี้dek66ทําอะไร #ทีมมธ #dek66 #TGATTPAT https://t.co/sDZTag82Ve',\n",
       "  'tweet_location': 'Bangkok, Thailand'}]"
      ]
     },
     "execution_count": 1,
     "metadata": {},
     "output_type": "execute_result"
    }
   ],
   "source": [
    "from Twitter_keeper import PullTweetsData\n",
    "\n",
    "puller = PullTweetsData()\n",
    "puller.connectToDB(\"twitter_keeper\", \"tweets\")\n",
    "\n",
    "puller.find_multi(\"\", \"\", \"\", \"Bangkok\", \"\", \"2023.2.12.17.0.0\", \"2023.2.12.17.40.0\")"
   ]
  },
  {
   "cell_type": "code",
   "execution_count": null,
   "metadata": {},
   "outputs": [],
   "source": []
  }
 ],
 "metadata": {
  "kernelspec": {
   "display_name": "Python 3",
   "language": "python",
   "name": "python3"
  },
  "language_info": {
   "codemirror_mode": {
    "name": "ipython",
    "version": 3
   },
   "file_extension": ".py",
   "mimetype": "text/x-python",
   "name": "python",
   "nbconvert_exporter": "python",
   "pygments_lexer": "ipython3",
   "version": "3.11.2"
  },
  "orig_nbformat": 4,
  "vscode": {
   "interpreter": {
    "hash": "aee8b7b246df8f9039afb4144a1f6fd8d2ca17a180786b69acc140d282b71a49"
   }
  }
 },
 "nbformat": 4,
 "nbformat_minor": 2
}
