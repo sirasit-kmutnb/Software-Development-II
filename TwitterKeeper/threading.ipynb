{
 "cells": [
  {
   "cell_type": "code",
   "execution_count": 25,
   "metadata": {},
   "outputs": [],
   "source": [
    "from threading import Thread\n",
    "import time\n",
    "from tqdm import tqdm\n",
    "class threader:\n",
    "    def test(self):\n",
    "        time.sleep(10)\n",
    "        # print(\"Text\")\n",
    "    def __init__(self):\n",
    "        for i in tqdm(range(10)):\n",
    "            t = Thread(target=self.test)\n",
    "            t.start()\n",
    "            t1 = Thread(target=self.test)\n",
    "            t1.start()\n"
   ]
  },
  {
   "cell_type": "code",
   "execution_count": 26,
   "metadata": {},
   "outputs": [
    {
     "name": "stderr",
     "output_type": "stream",
     "text": [
      "100%|██████████| 10/10 [00:00<00:00, 6591.71it/s]\n"
     ]
    },
    {
     "data": {
      "text/plain": [
       "<__main__.threader at 0x103d60430>"
      ]
     },
     "execution_count": 26,
     "metadata": {},
     "output_type": "execute_result"
    }
   ],
   "source": [
    "threader()"
   ]
  },
  {
   "cell_type": "code",
   "execution_count": 9,
   "metadata": {},
   "outputs": [
    {
     "name": "stderr",
     "output_type": "stream",
     "text": [
      "12:51:14: Main    : before creating thread\n",
      "12:51:14: Main    : before running thread\n",
      "12:51:14: Thread 1: starting\n",
      "12:51:14: Main    : wait for the thread to finish\n",
      "12:51:14: Main    : all done\n"
     ]
    },
    {
     "name": "stderr",
     "output_type": "stream",
     "text": [
      "12:51:16: Thread 1: finishing\n"
     ]
    }
   ],
   "source": [
    "import logging\n",
    "from threading import Thread\n",
    "import time\n",
    "\n",
    "def thread_function(name):\n",
    "    logging.info(\"Thread %s: starting\", name)\n",
    "    time.sleep(2)\n",
    "    logging.info(\"Thread %s: finishing\", name)\n",
    "\n",
    "if __name__ == \"__main__\":\n",
    "    format = \"%(asctime)s: %(message)s\"\n",
    "    logging.basicConfig(format=format, level=logging.INFO,\n",
    "                        datefmt=\"%H:%M:%S\")\n",
    "\n",
    "    logging.info(\"Main    : before creating thread\")\n",
    "    x = Thread(target=thread_function, args=(1,))\n",
    "    # x = Thread(target=thread_function, args=(1,), daemon=True)\n",
    "    logging.info(\"Main    : before running thread\")\n",
    "    x.start()\n",
    "    logging.info(\"Main    : wait for the thread to finish\")\n",
    "    # x.join()\n",
    "    logging.info(\"Main    : all done\")"
   ]
  },
  {
   "cell_type": "code",
   "execution_count": 10,
   "metadata": {},
   "outputs": [
    {
     "name": "stderr",
     "output_type": "stream",
     "text": [
      "12:52:05: Main    : create and start thread 0.\n",
      "12:52:05: Thread 0: starting\n",
      "12:52:05: Main    : create and start thread 1.\n",
      "12:52:05: Thread 1: starting\n",
      "12:52:05: Main    : create and start thread 2.\n",
      "12:52:05: Thread 2: starting\n",
      "12:52:05: Main    : before joining thread 0.\n",
      "12:52:07: Thread 2: finishing\n",
      "12:52:07: Thread 0: finishing\n",
      "12:52:07: Thread 1: finishing\n",
      "12:52:07: Main    : thread 0 done\n",
      "12:52:07: Main    : before joining thread 1.\n",
      "12:52:07: Main    : thread 1 done\n",
      "12:52:07: Main    : before joining thread 2.\n",
      "12:52:07: Main    : thread 2 done\n"
     ]
    }
   ],
   "source": [
    "import logging\n",
    "import threading\n",
    "import time\n",
    "\n",
    "def thread_function(name):\n",
    "    logging.info(\"Thread %s: starting\", name)\n",
    "    time.sleep(2)\n",
    "    logging.info(\"Thread %s: finishing\", name)\n",
    "\n",
    "if __name__ == \"__main__\":\n",
    "    format = \"%(asctime)s: %(message)s\"\n",
    "    logging.basicConfig(format=format, level=logging.INFO,\n",
    "                        datefmt=\"%H:%M:%S\")\n",
    "\n",
    "    threads = list()\n",
    "    for index in range(3):\n",
    "        logging.info(\"Main    : create and start thread %d.\", index)\n",
    "        x = threading.Thread(target=thread_function, args=(index,))\n",
    "        threads.append(x)\n",
    "        x.start()\n",
    "\n",
    "    for index, thread in enumerate(threads):\n",
    "        logging.info(\"Main    : before joining thread %d.\", index)\n",
    "        thread.join()\n",
    "        logging.info(\"Main    : thread %d done\", index)"
   ]
  },
  {
   "cell_type": "code",
   "execution_count": null,
   "metadata": {},
   "outputs": [],
   "source": []
  }
 ],
 "metadata": {
  "kernelspec": {
   "display_name": "Python 3",
   "language": "python",
   "name": "python3"
  },
  "language_info": {
   "codemirror_mode": {
    "name": "ipython",
    "version": 3
   },
   "file_extension": ".py",
   "mimetype": "text/x-python",
   "name": "python",
   "nbconvert_exporter": "python",
   "pygments_lexer": "ipython3",
   "version": "3.10.9 (tags/v3.10.9:1dd9be6, Dec  6 2022, 20:01:21) [MSC v.1934 64 bit (AMD64)]"
  },
  "orig_nbformat": 4,
  "vscode": {
   "interpreter": {
    "hash": "145d699a7c867e2132605a4c9c8e0a15bef78fe5e04d90a2331adbbc224e1427"
   }
  }
 },
 "nbformat": 4,
 "nbformat_minor": 2
}
