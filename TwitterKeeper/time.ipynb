{
 "cells": [
  {
   "cell_type": "code",
   "execution_count": 3,
   "metadata": {},
   "outputs": [],
   "source": [
    "import pytz\n",
    "from datetime import datetime\n",
    "\n",
    "def utc_to_local(self, utc_dt):\n",
    "    localTZ = pytz.timezone('Asia/Bangkok')\n",
    "    try:\n",
    "        local_dt = utc_dt.replace(tzinfo=pytz.utc).astimezone(self.localTZ)\n",
    "        # .normalize might be unnecessary\n",
    "        return localTZ.normalize(local_dt)\n",
    "    except:\n",
    "        return \"Bad Data\""
   ]
  },
  {
   "cell_type": "code",
   "execution_count": 15,
   "metadata": {},
   "outputs": [
    {
     "name": "stdout",
     "output_type": "stream",
     "text": [
      "2023-01-23 07:00:00\n"
     ]
    }
   ],
   "source": [
    "print(datetime(2023, 1, 23, 7, 0, 0))\n",
    "# dt_str = str(datetime(2023, 1, 23, 7, 0, 0))\n",
    "# format = \"%Y-%m-%d %H:%M:%S%z\"\n",
    "# dt_utc = datetime.strptime(dt_str, format)\n",
    "# print(dt_utc)"
   ]
  },
  {
   "cell_type": "code",
   "execution_count": 21,
   "metadata": {},
   "outputs": [
    {
     "name": "stdout",
     "output_type": "stream",
     "text": [
      "Current time: 2023-01-23 07:00:00\n",
      "UTC time: 2023-01-23 07:00:00+00:00\n",
      "Eastern Time: 2023-01-23 14:00:00+07:00\n"
     ]
    }
   ],
   "source": [
    "from datetime import datetime\n",
    "import pytz\n",
    "\n",
    "# Create a datetime object for the current time\n",
    "now = datetime(2023, 1, 23, 7, 0, 0)\n",
    "print(\"Current time:\", now)\n",
    "\n",
    "now_utc = pytz.utc.localize(now)\n",
    "print(\"UTC time:\", now_utc)\n",
    "\n",
    "# Set the timezone to Eastern Time (US & Canada)\n",
    "eastern = pytz.timezone(\"Asia/Bangkok\")\n",
    "\n",
    "# Convert the datetime object to Eastern Time\n",
    "now_eastern = now_utc.astimezone(eastern)\n",
    "print(\"Eastern Time:\", now_eastern)"
   ]
  },
  {
   "cell_type": "code",
   "execution_count": 29,
   "metadata": {},
   "outputs": [
    {
     "name": "stdout",
     "output_type": "stream",
     "text": [
      "Local time: 2023-01-23 10:00:00\n",
      "UTC time: 2023-01-23 03:00:00+00:00\n"
     ]
    }
   ],
   "source": [
    "from datetime import datetime\n",
    "import pytz\n",
    "\n",
    "# Create a datetime object for the current local time\n",
    "now = datetime(2023, 1, 23, 7, 0, 0)\n",
    "print(\"Local time:\", now)\n",
    "\n",
    "# Get the local timezone\n",
    "local_tz = pytz.timezone(\"Asia/Bangkok\")\n",
    "\n",
    "# Localize the datetime object to the local timezone\n",
    "local_time = local_tz.localize(now)\n",
    "print(local_time)\n",
    "\n",
    "# Convert the localized datetime to UTC\n",
    "utc_time = local_time.astimezone(pytz.utc)\n",
    "print(\"UTC time:\", utc_time)"
   ]
  },
  {
   "cell_type": "code",
   "execution_count": null,
   "metadata": {},
   "outputs": [],
   "source": []
  }
 ],
 "metadata": {
  "kernelspec": {
   "display_name": "Python 3",
   "language": "python",
   "name": "python3"
  },
  "language_info": {
   "codemirror_mode": {
    "name": "ipython",
    "version": 3
   },
   "file_extension": ".py",
   "mimetype": "text/x-python",
   "name": "python",
   "nbconvert_exporter": "python",
   "pygments_lexer": "ipython3",
   "version": "3.10.9 (tags/v3.10.9:1dd9be6, Dec  6 2022, 20:01:21) [MSC v.1934 64 bit (AMD64)]"
  },
  "orig_nbformat": 4,
  "vscode": {
   "interpreter": {
    "hash": "145d699a7c867e2132605a4c9c8e0a15bef78fe5e04d90a2331adbbc224e1427"
   }
  }
 },
 "nbformat": 4,
 "nbformat_minor": 2
}
