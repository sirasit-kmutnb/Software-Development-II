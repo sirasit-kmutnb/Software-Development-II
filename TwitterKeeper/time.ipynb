{
 "cells": [
  {
   "cell_type": "code",
   "execution_count": null,
   "metadata": {},
   "outputs": [
    {
     "ename": "",
     "evalue": "",
     "output_type": "error",
     "traceback": [
      "\u001b[1;31mFailed to start the Kernel. \n",
      "\u001b[1;31mJupyter server crashed. Unable to connect. \n",
      "\u001b[1;31mError code from Jupyter: 1\n",
      "\u001b[1;31musage: jupyter.py [-h] [--version] [--config-dir] [--data-dir] [--runtime-dir]\n",
      "\u001b[1;31m                  [--paths] [--json] [--debug]\n",
      "\u001b[1;31m                  [subcommand]\n",
      "\u001b[1;31m\n",
      "\u001b[1;31mJupyter: Interactive Computing\n",
      "\u001b[1;31m\n",
      "\u001b[1;31mpositional arguments:\n",
      "\u001b[1;31m  subcommand     the subcommand to launch\n",
      "\u001b[1;31m\n",
      "\u001b[1;31moptions:\n",
      "\u001b[1;31m  -h, --help     show this help message and exit\n",
      "\u001b[1;31m  --version      show the versions of core jupyter packages and exit\n",
      "\u001b[1;31m  --config-dir   show Jupyter config dir\n",
      "\u001b[1;31m  --data-dir     show Jupyter data dir\n",
      "\u001b[1;31m  --runtime-dir  show Jupyter runtime dir\n",
      "\u001b[1;31m  --paths        show all Jupyter paths. Add --json for machine-readable\n",
      "\u001b[1;31m                 format.\n",
      "\u001b[1;31m  --json         output paths as machine-readable json\n",
      "\u001b[1;31m  --debug        output debug information about paths\n",
      "\u001b[1;31m\n",
      "\u001b[1;31mAvailable subcommands:\n",
      "\u001b[1;31m\n",
      "\u001b[1;31mJupyter command `jupyter-notebook` not found. \n",
      "\u001b[1;31mView Jupyter <a href='command:jupyter.viewOutput'>log</a> for further details."
     ]
    }
   ],
   "source": [
    "import pytz\n",
    "from datetime import datetime\n",
    "\n",
    "def utc_to_local(self, utc_dt):\n",
    "    localTZ = pytz.timezone('Asia/Bangkok')\n",
    "    try:\n",
    "        local_dt = utc_dt.replace(tzinfo=pytz.utc).astimezone(self.localTZ)\n",
    "        # .normalize might be unnecessary\n",
    "        return localTZ.normalize(local_dt)\n",
    "    except:\n",
    "        return \"Bad Data\""
   ]
  },
  {
   "cell_type": "code",
   "execution_count": 15,
   "metadata": {},
   "outputs": [
    {
     "name": "stdout",
     "output_type": "stream",
     "text": [
      "2023-01-23 07:00:00\n"
     ]
    }
   ],
   "source": [
    "print(datetime(2023, 1, 23, 7, 0, 0))\n",
    "# dt_str = str(datetime(2023, 1, 23, 7, 0, 0))\n",
    "# format = \"%Y-%m-%d %H:%M:%S%z\"\n",
    "# dt_utc = datetime.strptime(dt_str, format)\n",
    "# print(dt_utc)"
   ]
  },
  {
   "cell_type": "code",
   "execution_count": 21,
   "metadata": {},
   "outputs": [
    {
     "name": "stdout",
     "output_type": "stream",
     "text": [
      "Current time: 2023-01-23 07:00:00\n",
      "UTC time: 2023-01-23 07:00:00+00:00\n",
      "Eastern Time: 2023-01-23 14:00:00+07:00\n"
     ]
    }
   ],
   "source": [
    "from datetime import datetime\n",
    "import pytz\n",
    "\n",
    "# Create a datetime object for the current time\n",
    "now = datetime(2023, 1, 23, 7, 0, 0)\n",
    "print(\"Current time:\", now)\n",
    "\n",
    "now_utc = pytz.utc.localize(now)\n",
    "print(\"UTC time:\", now_utc)\n",
    "\n",
    "# Set the timezone to Eastern Time (US & Canada)\n",
    "eastern = pytz.timezone(\"Asia/Bangkok\")\n",
    "\n",
    "# Convert the datetime object to Eastern Time\n",
    "now_eastern = now_utc.astimezone(eastern)\n",
    "print(\"Eastern Time:\", now_eastern)"
   ]
  },
  {
   "cell_type": "code",
   "execution_count": 29,
   "metadata": {},
   "outputs": [
    {
     "name": "stdout",
     "output_type": "stream",
     "text": [
      "Local time: 2023-01-23 10:00:00\n",
      "UTC time: 2023-01-23 03:00:00+00:00\n"
     ]
    }
   ],
   "source": [
    "from datetime import datetime\n",
    "import pytz\n",
    "\n",
    "# Create a datetime object for the current local time\n",
    "now = datetime(2023, 1, 23, 7, 0, 0)\n",
    "print(\"Local time:\", now)\n",
    "\n",
    "# Get the local timezone\n",
    "local_tz = pytz.timezone(\"Asia/Bangkok\")\n",
    "\n",
    "# Localize the datetime object to the local timezone\n",
    "local_time = local_tz.localize(now)\n",
    "print(local_time)\n",
    "\n",
    "# Convert the localized datetime to UTC\n",
    "utc_time = local_time.astimezone(pytz.utc)\n",
    "print(\"UTC time:\", utc_time)"
   ]
  },
  {
   "cell_type": "code",
   "execution_count": 3,
   "metadata": {},
   "outputs": [
    {
     "data": {
      "text/plain": [
       "datetime.datetime(2023, 1, 23, 6, 15, 20, tzinfo=<UTC>)"
      ]
     },
     "execution_count": 3,
     "metadata": {},
     "output_type": "execute_result"
    }
   ],
   "source": [
    "from datetime import datetime\n",
    "import pytz\n",
    "def local_to_utc(local_dt):\n",
    "        try:\n",
    "            localTZ = pytz.timezone('Asia/Bangkok')\n",
    "            time = local_dt\n",
    "            # Localize the datetime object to the local timezone\n",
    "            local_time = localTZ.localize(time)\n",
    "            # Convert the localized datetime to UTC\n",
    "            utc_time = local_time.astimezone(pytz.utc)\n",
    "            # .normalize might be unnecessary\n",
    "            return utc_time\n",
    "        except:\n",
    "            return \"Bad Data\"\n",
    "local = datetime(2023, 1, 23, 13, 15, 20)\n",
    "local_to_utc(local)"
   ]
  },
  {
   "cell_type": "code",
   "execution_count": 7,
   "metadata": {},
   "outputs": [
    {
     "name": "stdout",
     "output_type": "stream",
     "text": [
      "20\n"
     ]
    }
   ],
   "source": [
    "from datetime import datetime\n",
    "local = datetime(2023, 1, 23, 13, 15, 20)\n",
    "print(local.second)"
   ]
  },
  {
   "cell_type": "code",
   "execution_count": 4,
   "metadata": {},
   "outputs": [
    {
     "data": {
      "text/plain": [
       "datetime.datetime(2022, 1, 1, 12, 0, tzinfo=<UTC>)"
      ]
     },
     "execution_count": 4,
     "metadata": {},
     "output_type": "execute_result"
    }
   ],
   "source": [
    "from datetime import datetime\n",
    "import pytz\n",
    "datetime(2022, 1, 1, 12, 0, 0, tzinfo=pytz.UTC)"
   ]
  },
  {
   "cell_type": "code",
   "execution_count": null,
   "metadata": {},
   "outputs": [],
   "source": []
  }
 ],
 "metadata": {
  "kernelspec": {
   "display_name": "Python 3",
   "language": "python",
   "name": "python3"
  },
  "language_info": {
   "codemirror_mode": {
    "name": "ipython",
    "version": 3
   },
   "file_extension": ".py",
   "mimetype": "text/x-python",
   "name": "python",
   "nbconvert_exporter": "python",
   "pygments_lexer": "ipython3",
   "version": "3.11.2"
  },
  "orig_nbformat": 4,
  "vscode": {
   "interpreter": {
    "hash": "aee8b7b246df8f9039afb4144a1f6fd8d2ca17a180786b69acc140d282b71a49"
   }
  }
 },
 "nbformat": 4,
 "nbformat_minor": 2
}
